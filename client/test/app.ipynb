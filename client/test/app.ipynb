{
 "cells": [
  {
   "cell_type": "code",
   "execution_count": 1,
   "metadata": {},
   "outputs": [],
   "source": [
    "from labml import tracker, experiment\n",
    "from numpy.random import random"
   ]
  },
  {
   "cell_type": "code",
   "execution_count": 2,
   "metadata": {},
   "outputs": [
    {
     "data": {
      "text/html": [
       "<pre style=\"overflow-x: scroll;\">\n",
       "\n",
       "<strong><span style=\"text-decoration: underline\">sample</span></strong>: <span style=\"color: #208FFB\">82b1f9ec440411eb8014acde48001122</span>\n",
       "\t[dirty]: <strong><span style=\"color: #DDB62B\">\"🤦‍♂️ spelling\"</span></strong>\n",
       "<strong><span style=\"color: #DDB62B\">       0:  </span></strong> loss: <strong>0.292347</strong>\n",
       "<span style=\"color: #C5C1B4\"></span>\n",
       "<span style=\"color: #C5C1B4\">--------------------------------------------------</span><span style=\"color: #DDB62B\"><strong><span style=\"text-decoration: underline\"></span></strong></span>\n",
       "<span style=\"color: #DDB62B\"><strong><span style=\"text-decoration: underline\">LABML WARNING</span></strong></span>\n",
       "<span style=\"color: #DDB62B\"><strong><span style=\"text-decoration: underline\"></span></strong></span>LabML App Warning: <span style=\"color: #60C6C8\">empty_token: </span><strong>Please create a valid token at https://web.lab-ml.com.</strong>\n",
       "<strong>Click on the experiment link to monitor the experiment and add it to your experiments list.</strong><span style=\"color: #C5C1B4\"></span>\n",
       "<span style=\"color: #C5C1B4\">--------------------------------------------------</span>\n",
       "<span style=\"color: #208FFB\">Monitor experiment at </span><a href='https://web.lab-ml.com/run?run_uuid=82b1f9ec440411eb8014acde48001122' target='blank'>https://web.lab-ml.com/run?run_uuid=82b1f9ec440411eb8014acde48001122</a>\n",
       "<strong><span style=\"color: #DDB62B\">   1,000:  </span></strong> loss: <strong>0.250458</strong>\n",
       "<strong><span style=\"color: #DDB62B\">   2,000:  </span></strong> loss: <strong>0.097327</strong>\n",
       "<strong><span style=\"color: #DDB62B\">   3,000:  </span></strong> loss: <strong>0.268577</strong>\n",
       "<strong><span style=\"color: #DDB62B\">   4,000:  </span></strong> loss: <strong>0.795386</strong>\n",
       "<strong><span style=\"color: #DDB62B\">   5,000:  </span></strong> loss: <strong>0.831288</strong>\n",
       "<strong><span style=\"color: #DDB62B\">   6,000:  </span></strong> loss: <strong>0.078543</strong>\n",
       "<strong><span style=\"color: #DDB62B\">   7,000:  </span></strong> loss: <strong>0.399320</strong>\n",
       "<strong><span style=\"color: #DDB62B\">   8,000:  </span></strong> loss: <strong>0.751154</strong>\n",
       "<strong><span style=\"color: #DDB62B\">   9,000:  </span></strong> loss: <strong>0.127571</strong>\n",
       "<strong><span style=\"color: #DDB62B\">Still updating LabML App, please wait for it to complete...</span></strong></pre>"
      ],
      "text/plain": [
       "<IPython.core.display.HTML object>"
      ]
     },
     "metadata": {},
     "output_type": "display_data"
    },
    {
     "data": {
      "text/html": [
       "<pre style=\"overflow-x: scroll;\"><span style=\"color: #208FFB\">Updating App. Please wait...</span></pre>"
      ],
      "text/plain": [
       "<IPython.core.display.HTML object>"
      ]
     },
     "metadata": {},
     "output_type": "display_data"
    },
    {
     "data": {
      "text/html": [
       "<pre style=\"overflow-x: scroll;\"></pre>"
      ],
      "text/plain": [
       "<IPython.core.display.HTML object>"
      ]
     },
     "metadata": {},
     "output_type": "display_data"
    },
    {
     "data": {
      "text/html": [
       "<pre style=\"overflow-x: scroll;\"><strong><span style=\"color: #DDB62B\">Finished updating LabML App.</span></strong></pre>"
      ],
      "text/plain": [
       "<IPython.core.display.HTML object>"
      ]
     },
     "metadata": {},
     "output_type": "display_data"
    }
   ],
   "source": [
    "conf = {'batch_size': 20}\n",
    "\n",
    "with experiment.record(name='sample', exp_conf=conf, writers={'web_api', 'screen'}):\n",
    "    for i in range(10_000):\n",
    "        values = {'loss': random()}\n",
    "\n",
    "        tracker.save(i, values)\n",
    "        if i % 1000 == 0:\n",
    "            tracker.new_line()"
   ]
  }
 ],
 "metadata": {
  "kernelspec": {
   "display_name": "dl3",
   "language": "python",
   "name": "dl3"
  },
  "language_info": {
   "codemirror_mode": {
    "name": "ipython",
    "version": 3
   },
   "file_extension": ".py",
   "mimetype": "text/x-python",
   "name": "python",
   "nbconvert_exporter": "python",
   "pygments_lexer": "ipython3",
   "version": "3.7.5"
  }
 },
 "nbformat": 4,
 "nbformat_minor": 2
}
