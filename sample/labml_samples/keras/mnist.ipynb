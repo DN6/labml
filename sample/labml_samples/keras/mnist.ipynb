{
  "nbformat": 4,
  "nbformat_minor": 0,
  "metadata": {
    "colab": {
      "name": "MNIST Keras",
      "provenance": [],
      "collapsed_sections": []
    },
    "kernelspec": {
      "name": "python3",
      "display_name": "Python 3"
    },
    "accelerator": "GPU"
  },
  "cells": [
    {
      "cell_type": "markdown",
      "metadata": {
        "id": "AYV_dMVDxyc2"
      },
      "source": [
        "[![Github](https://img.shields.io/github/stars/lab-ml/samples?style=social)](https://github.com/lab-ml/samples)                \n",
        "\n",
        "## MNIST Keras"
      ]
    },
    {
      "cell_type": "markdown",
      "metadata": {
        "id": "XNbK5kWpt4uk"
      },
      "source": [
        "Install the library"
      ]
    },
    {
      "cell_type": "code",
      "metadata": {
        "id": "RJZxpbUAt3E_",
        "outputId": "1f689a49-41ef-414f-d306-69866b5e53e3",
        "colab": {
          "base_uri": "https://localhost:8080/"
        }
      },
      "source": [
        "!pip install labml"
      ],
      "execution_count": 1,
      "outputs": [
        {
          "output_type": "stream",
          "text": [
            "Requirement already satisfied: labml in /usr/local/lib/python3.6/dist-packages (0.4.102)\n",
            "Requirement already satisfied: pyyaml in /usr/local/lib/python3.6/dist-packages (from labml) (3.13)\n",
            "Requirement already satisfied: numpy in /usr/local/lib/python3.6/dist-packages (from labml) (1.19.5)\n",
            "Requirement already satisfied: gitpython in /usr/local/lib/python3.6/dist-packages (from labml) (3.1.13)\n",
            "Requirement already satisfied: gitdb<5,>=4.0.1 in /usr/local/lib/python3.6/dist-packages (from gitpython->labml) (4.0.5)\n",
            "Requirement already satisfied: smmap<4,>=3.0.1 in /usr/local/lib/python3.6/dist-packages (from gitdb<5,>=4.0.1->gitpython->labml) (3.0.5)\n"
          ],
          "name": "stdout"
        }
      ]
    },
    {
      "cell_type": "markdown",
      "metadata": {
        "id": "i8Zmkb1qR9nY"
      },
      "source": [
        "Import the library"
      ]
    },
    {
      "cell_type": "code",
      "metadata": {
        "id": "PRp5k8TwwAoo"
      },
      "source": [
        "import tensorflow as tf\n",
        "\n",
        "from labml import experiment\n",
        "from labml.utils.keras import LabMLKerasCallback"
      ],
      "execution_count": 2,
      "outputs": []
    },
    {
      "cell_type": "markdown",
      "metadata": {
        "id": "JgAyptsbSovw"
      },
      "source": [
        "Define the Model"
      ]
    },
    {
      "cell_type": "code",
      "metadata": {
        "id": "7NDj0ekpwLdj"
      },
      "source": [
        "experiment.create(name='mnist_keras')\n",
        "\n",
        "(x_train, y_train), (x_test, y_test) = tf.keras.datasets.mnist.load_data()\n",
        "x_train, x_test = x_train / 255.0, x_test / 255.0\n",
        "\n",
        "model = tf.keras.models.Sequential([\n",
        "    tf.keras.layers.Flatten(input_shape=(28, 28)),\n",
        "    tf.keras.layers.Dense(128, activation='relu'),\n",
        "    tf.keras.layers.Dropout(0.2),\n",
        "    tf.keras.layers.Dense(10)\n",
        "])\n",
        "\n",
        "loss_fn = tf.keras.losses.SparseCategoricalCrossentropy(from_logits=True)\n",
        "\n",
        "model.compile(optimizer='adam',\n",
        "              loss=loss_fn,\n",
        "              metrics=['accuracy'])"
      ],
      "execution_count": 3,
      "outputs": []
    },
    {
      "cell_type": "markdown",
      "metadata": {
        "id": "MlZc2uhkTXSi"
      },
      "source": [
        "Run the experiment"
      ]
    },
    {
      "cell_type": "code",
      "metadata": {
        "id": "-f0fEoBywQyu",
        "outputId": "4f08afd1-a7cb-4b2e-9e28-3da44492c850",
        "colab": {
          "base_uri": "https://localhost:8080/",
          "height": 289
        }
      },
      "source": [
        "with experiment.start():\n",
        "    model.fit(x_train, y_train, epochs=5, validation_data=(x_test, y_test),\n",
        "              callbacks=[LabMLKerasCallback()], verbose=None)\n"
      ],
      "execution_count": 4,
      "outputs": [
        {
          "output_type": "display_data",
          "data": {
            "text/html": [
              "<pre style=\"overflow-x: scroll;\">\n",
              "<strong><span style=\"text-decoration: underline\">mnist_keras</span></strong>: <span style=\"color: #208FFB\">ef526d306cd011eb87500242ac1c0002</span>\n",
              "\t[dirty]: <strong><span style=\"color: #DDB62B\">\"\"</span></strong>\n",
              "<span style=\"color: #C5C1B4\"></span>\n",
              "<span style=\"color: #C5C1B4\">--------------------------------------------------</span><span style=\"color: #DDB62B\"><strong><span style=\"text-decoration: underline\"></span></strong></span>\n",
              "<span style=\"color: #DDB62B\"><strong><span style=\"text-decoration: underline\">LABML WARNING</span></strong></span>\n",
              "<span style=\"color: #DDB62B\"><strong><span style=\"text-decoration: underline\"></span></strong></span>LabML App Warning: <span style=\"color: #60C6C8\">empty_token: </span><strong>Please create a valid token at https://web.lab-ml.com.</strong>\n",
              "<strong>Click on the experiment link to monitor the experiment and add it to your experiments list.</strong><span style=\"color: #C5C1B4\"></span>\n",
              "<span style=\"color: #C5C1B4\">--------------------------------------------------</span>\n",
              "<span style=\"color: #208FFB\">Monitor experiment at </span><a href='https://web.lab-ml.com/run?uuid=ef526d306cd011eb87500242ac1c0002' target='blank'>https://web.lab-ml.com/run?uuid=ef526d306cd011eb87500242ac1c0002</a>\n",
              "<strong><span style=\"color: #DDB62B\">   1,875:  </span></strong> loss.train: <strong>0.295575</strong> accuracy.train: <strong>0.914600</strong> loss.valid: <strong>0.141112</strong> accuracy.valid: <strong>0.955300</strong>\n",
              "<strong><span style=\"color: #DDB62B\">   3,750:  </span></strong> loss.train: <strong>0.142897</strong> accuracy.train: <strong>0.958700</strong> loss.valid: <strong>0.101218</strong> accuracy.valid: <strong>0.969900</strong>\n",
              "<strong><span style=\"color: #DDB62B\">   5,625:  </span></strong> loss.train: <strong>0.108141</strong> accuracy.train: <strong>0.966900</strong> loss.valid: <strong>0.087317</strong> accuracy.valid: <strong>0.972300</strong>\n",
              "<strong><span style=\"color: #DDB62B\">   7,500:  </span></strong> loss.train: <strong>0.088252</strong> accuracy.train: <strong>0.972750</strong> loss.valid: <strong>0.082218</strong> accuracy.valid: <strong>0.974900</strong>\n",
              "<strong><span style=\"color: #DDB62B\">   9,375:  </span></strong> loss.train: <strong>0.076674</strong> accuracy.train: <strong>0.975633</strong> loss.valid: <strong>0.073567</strong> accuracy.valid: <strong>0.976800</strong>\n",
              "<strong><span style=\"color: #DDB62B\">Still updating LabML App, please wait for it to complete...</span></strong></pre>"
            ],
            "text/plain": [
              "<IPython.core.display.HTML object>"
            ]
          },
          "metadata": {
            "tags": []
          }
        },
        {
          "output_type": "stream",
          "text": [
            "WARNING:tensorflow:Callback method `on_train_batch_end` is slow compared to the batch time (batch time: 0.0015s vs `on_train_batch_end` time: 0.0091s). Check your callbacks.\n"
          ],
          "name": "stdout"
        }
      ]
    }
  ]
}