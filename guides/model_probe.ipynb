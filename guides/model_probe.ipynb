{
 "nbformat": 4,
 "nbformat_minor": 0,
 "metadata": {
  "colab": {
   "name": "model_probe_demo",
   "provenance": [],
   "collapsed_sections": []
  },
  "kernelspec": {
   "name": "python3",
   "display_name": "Python 3"
  },
  "widgets": {
   "application/vnd.jupyter.widget-state+json": {
    "50cce09c41b8485599fae5d40e7a809e": {
     "model_module": "@jupyter-widgets/controls",
     "model_name": "HBoxModel",
     "model_module_version": "1.5.0",
     "state": {
      "_view_name": "HBoxView",
      "_dom_classes": [],
      "_model_name": "HBoxModel",
      "_view_module": "@jupyter-widgets/controls",
      "_model_module_version": "1.5.0",
      "_view_count": null,
      "_view_module_version": "1.5.0",
      "box_style": "",
      "layout": "IPY_MODEL_f1a2718429ef4e24a1ca3b9aa3ddc4fa",
      "_model_module": "@jupyter-widgets/controls",
      "children": [
       "IPY_MODEL_8aa20e06879b4808976a06e7822a5d3c",
       "IPY_MODEL_4a69c45ef27640eb9de5b841fb679516",
       "IPY_MODEL_8c04063e0c0147e2ab7fa7947d22c570"
      ]
     }
    },
    "f1a2718429ef4e24a1ca3b9aa3ddc4fa": {
     "model_module": "@jupyter-widgets/base",
     "model_name": "LayoutModel",
     "model_module_version": "1.2.0",
     "state": {
      "_view_name": "LayoutView",
      "grid_template_rows": null,
      "right": null,
      "justify_content": null,
      "_view_module": "@jupyter-widgets/base",
      "overflow": null,
      "_model_module_version": "1.2.0",
      "_view_count": null,
      "flex_flow": null,
      "width": null,
      "min_width": null,
      "border": null,
      "align_items": null,
      "bottom": null,
      "_model_module": "@jupyter-widgets/base",
      "top": null,
      "grid_column": null,
      "overflow_y": null,
      "overflow_x": null,
      "grid_auto_flow": null,
      "grid_area": null,
      "grid_template_columns": null,
      "flex": null,
      "_model_name": "LayoutModel",
      "justify_items": null,
      "grid_row": null,
      "max_height": null,
      "align_content": null,
      "visibility": null,
      "align_self": null,
      "height": null,
      "min_height": null,
      "padding": null,
      "grid_auto_rows": null,
      "grid_gap": null,
      "max_width": null,
      "order": null,
      "_view_module_version": "1.2.0",
      "grid_template_areas": null,
      "object_position": null,
      "object_fit": null,
      "grid_auto_columns": null,
      "margin": null,
      "display": null,
      "left": null
     }
    },
    "8aa20e06879b4808976a06e7822a5d3c": {
     "model_module": "@jupyter-widgets/controls",
     "model_name": "HTMLModel",
     "model_module_version": "1.5.0",
     "state": {
      "_view_name": "HTMLView",
      "style": "IPY_MODEL_8999848b19b54ec6b25e5784d91875ab",
      "_dom_classes": [],
      "description": "",
      "_model_name": "HTMLModel",
      "placeholder": "​",
      "_view_module": "@jupyter-widgets/controls",
      "_model_module_version": "1.5.0",
      "value": "Downloading: 100%",
      "_view_count": null,
      "_view_module_version": "1.5.0",
      "description_tooltip": null,
      "_model_module": "@jupyter-widgets/controls",
      "layout": "IPY_MODEL_ac54203867d24407a126c6fe10689494"
     }
    },
    "4a69c45ef27640eb9de5b841fb679516": {
     "model_module": "@jupyter-widgets/controls",
     "model_name": "FloatProgressModel",
     "model_module_version": "1.5.0",
     "state": {
      "_view_name": "ProgressView",
      "style": "IPY_MODEL_5b0126ce327a45fdb64c29f7930cb3ce",
      "_dom_classes": [],
      "description": "",
      "_model_name": "FloatProgressModel",
      "bar_style": "success",
      "max": 570,
      "_view_module": "@jupyter-widgets/controls",
      "_model_module_version": "1.5.0",
      "value": 570,
      "_view_count": null,
      "_view_module_version": "1.5.0",
      "orientation": "horizontal",
      "min": 0,
      "description_tooltip": null,
      "_model_module": "@jupyter-widgets/controls",
      "layout": "IPY_MODEL_d3dfe6fcad6d46e19998c1ea24c34519"
     }
    },
    "8c04063e0c0147e2ab7fa7947d22c570": {
     "model_module": "@jupyter-widgets/controls",
     "model_name": "HTMLModel",
     "model_module_version": "1.5.0",
     "state": {
      "_view_name": "HTMLView",
      "style": "IPY_MODEL_96eecee6c69341658516f58dfc5baad3",
      "_dom_classes": [],
      "description": "",
      "_model_name": "HTMLModel",
      "placeholder": "​",
      "_view_module": "@jupyter-widgets/controls",
      "_model_module_version": "1.5.0",
      "value": " 570/570 [00:00&lt;00:00, 13.3kB/s]",
      "_view_count": null,
      "_view_module_version": "1.5.0",
      "description_tooltip": null,
      "_model_module": "@jupyter-widgets/controls",
      "layout": "IPY_MODEL_5fd437deaadc4922b7106d2adda3c6f5"
     }
    },
    "8999848b19b54ec6b25e5784d91875ab": {
     "model_module": "@jupyter-widgets/controls",
     "model_name": "DescriptionStyleModel",
     "model_module_version": "1.5.0",
     "state": {
      "_view_name": "StyleView",
      "_model_name": "DescriptionStyleModel",
      "description_width": "",
      "_view_module": "@jupyter-widgets/base",
      "_model_module_version": "1.5.0",
      "_view_count": null,
      "_view_module_version": "1.2.0",
      "_model_module": "@jupyter-widgets/controls"
     }
    },
    "ac54203867d24407a126c6fe10689494": {
     "model_module": "@jupyter-widgets/base",
     "model_name": "LayoutModel",
     "model_module_version": "1.2.0",
     "state": {
      "_view_name": "LayoutView",
      "grid_template_rows": null,
      "right": null,
      "justify_content": null,
      "_view_module": "@jupyter-widgets/base",
      "overflow": null,
      "_model_module_version": "1.2.0",
      "_view_count": null,
      "flex_flow": null,
      "width": null,
      "min_width": null,
      "border": null,
      "align_items": null,
      "bottom": null,
      "_model_module": "@jupyter-widgets/base",
      "top": null,
      "grid_column": null,
      "overflow_y": null,
      "overflow_x": null,
      "grid_auto_flow": null,
      "grid_area": null,
      "grid_template_columns": null,
      "flex": null,
      "_model_name": "LayoutModel",
      "justify_items": null,
      "grid_row": null,
      "max_height": null,
      "align_content": null,
      "visibility": null,
      "align_self": null,
      "height": null,
      "min_height": null,
      "padding": null,
      "grid_auto_rows": null,
      "grid_gap": null,
      "max_width": null,
      "order": null,
      "_view_module_version": "1.2.0",
      "grid_template_areas": null,
      "object_position": null,
      "object_fit": null,
      "grid_auto_columns": null,
      "margin": null,
      "display": null,
      "left": null
     }
    },
    "5b0126ce327a45fdb64c29f7930cb3ce": {
     "model_module": "@jupyter-widgets/controls",
     "model_name": "ProgressStyleModel",
     "model_module_version": "1.5.0",
     "state": {
      "_view_name": "StyleView",
      "_model_name": "ProgressStyleModel",
      "description_width": "",
      "_view_module": "@jupyter-widgets/base",
      "_model_module_version": "1.5.0",
      "_view_count": null,
      "_view_module_version": "1.2.0",
      "bar_color": null,
      "_model_module": "@jupyter-widgets/controls"
     }
    },
    "d3dfe6fcad6d46e19998c1ea24c34519": {
     "model_module": "@jupyter-widgets/base",
     "model_name": "LayoutModel",
     "model_module_version": "1.2.0",
     "state": {
      "_view_name": "LayoutView",
      "grid_template_rows": null,
      "right": null,
      "justify_content": null,
      "_view_module": "@jupyter-widgets/base",
      "overflow": null,
      "_model_module_version": "1.2.0",
      "_view_count": null,
      "flex_flow": null,
      "width": null,
      "min_width": null,
      "border": null,
      "align_items": null,
      "bottom": null,
      "_model_module": "@jupyter-widgets/base",
      "top": null,
      "grid_column": null,
      "overflow_y": null,
      "overflow_x": null,
      "grid_auto_flow": null,
      "grid_area": null,
      "grid_template_columns": null,
      "flex": null,
      "_model_name": "LayoutModel",
      "justify_items": null,
      "grid_row": null,
      "max_height": null,
      "align_content": null,
      "visibility": null,
      "align_self": null,
      "height": null,
      "min_height": null,
      "padding": null,
      "grid_auto_rows": null,
      "grid_gap": null,
      "max_width": null,
      "order": null,
      "_view_module_version": "1.2.0",
      "grid_template_areas": null,
      "object_position": null,
      "object_fit": null,
      "grid_auto_columns": null,
      "margin": null,
      "display": null,
      "left": null
     }
    },
    "96eecee6c69341658516f58dfc5baad3": {
     "model_module": "@jupyter-widgets/controls",
     "model_name": "DescriptionStyleModel",
     "model_module_version": "1.5.0",
     "state": {
      "_view_name": "StyleView",
      "_model_name": "DescriptionStyleModel",
      "description_width": "",
      "_view_module": "@jupyter-widgets/base",
      "_model_module_version": "1.5.0",
      "_view_count": null,
      "_view_module_version": "1.2.0",
      "_model_module": "@jupyter-widgets/controls"
     }
    },
    "5fd437deaadc4922b7106d2adda3c6f5": {
     "model_module": "@jupyter-widgets/base",
     "model_name": "LayoutModel",
     "model_module_version": "1.2.0",
     "state": {
      "_view_name": "LayoutView",
      "grid_template_rows": null,
      "right": null,
      "justify_content": null,
      "_view_module": "@jupyter-widgets/base",
      "overflow": null,
      "_model_module_version": "1.2.0",
      "_view_count": null,
      "flex_flow": null,
      "width": null,
      "min_width": null,
      "border": null,
      "align_items": null,
      "bottom": null,
      "_model_module": "@jupyter-widgets/base",
      "top": null,
      "grid_column": null,
      "overflow_y": null,
      "overflow_x": null,
      "grid_auto_flow": null,
      "grid_area": null,
      "grid_template_columns": null,
      "flex": null,
      "_model_name": "LayoutModel",
      "justify_items": null,
      "grid_row": null,
      "max_height": null,
      "align_content": null,
      "visibility": null,
      "align_self": null,
      "height": null,
      "min_height": null,
      "padding": null,
      "grid_auto_rows": null,
      "grid_gap": null,
      "max_width": null,
      "order": null,
      "_view_module_version": "1.2.0",
      "grid_template_areas": null,
      "object_position": null,
      "object_fit": null,
      "grid_auto_columns": null,
      "margin": null,
      "display": null,
      "left": null
     }
    },
    "5b74f7f1100844f0b3b8c54579dec1b0": {
     "model_module": "@jupyter-widgets/controls",
     "model_name": "HBoxModel",
     "model_module_version": "1.5.0",
     "state": {
      "_view_name": "HBoxView",
      "_dom_classes": [],
      "_model_name": "HBoxModel",
      "_view_module": "@jupyter-widgets/controls",
      "_model_module_version": "1.5.0",
      "_view_count": null,
      "_view_module_version": "1.5.0",
      "box_style": "",
      "layout": "IPY_MODEL_b7e0bf594e7f471c9b0a269b9974b6f7",
      "_model_module": "@jupyter-widgets/controls",
      "children": [
       "IPY_MODEL_d26fc7ca44c84fdd9b8581dba5bb3311",
       "IPY_MODEL_ab18619b448445da8338463888c55f90",
       "IPY_MODEL_cebf4ad97bef40aeb0504847b2cbc308"
      ]
     }
    },
    "b7e0bf594e7f471c9b0a269b9974b6f7": {
     "model_module": "@jupyter-widgets/base",
     "model_name": "LayoutModel",
     "model_module_version": "1.2.0",
     "state": {
      "_view_name": "LayoutView",
      "grid_template_rows": null,
      "right": null,
      "justify_content": null,
      "_view_module": "@jupyter-widgets/base",
      "overflow": null,
      "_model_module_version": "1.2.0",
      "_view_count": null,
      "flex_flow": null,
      "width": null,
      "min_width": null,
      "border": null,
      "align_items": null,
      "bottom": null,
      "_model_module": "@jupyter-widgets/base",
      "top": null,
      "grid_column": null,
      "overflow_y": null,
      "overflow_x": null,
      "grid_auto_flow": null,
      "grid_area": null,
      "grid_template_columns": null,
      "flex": null,
      "_model_name": "LayoutModel",
      "justify_items": null,
      "grid_row": null,
      "max_height": null,
      "align_content": null,
      "visibility": null,
      "align_self": null,
      "height": null,
      "min_height": null,
      "padding": null,
      "grid_auto_rows": null,
      "grid_gap": null,
      "max_width": null,
      "order": null,
      "_view_module_version": "1.2.0",
      "grid_template_areas": null,
      "object_position": null,
      "object_fit": null,
      "grid_auto_columns": null,
      "margin": null,
      "display": null,
      "left": null
     }
    },
    "d26fc7ca44c84fdd9b8581dba5bb3311": {
     "model_module": "@jupyter-widgets/controls",
     "model_name": "HTMLModel",
     "model_module_version": "1.5.0",
     "state": {
      "_view_name": "HTMLView",
      "style": "IPY_MODEL_196dd840bffb4da8abc5f614c4ec28fc",
      "_dom_classes": [],
      "description": "",
      "_model_name": "HTMLModel",
      "placeholder": "​",
      "_view_module": "@jupyter-widgets/controls",
      "_model_module_version": "1.5.0",
      "value": "Downloading: 100%",
      "_view_count": null,
      "_view_module_version": "1.5.0",
      "description_tooltip": null,
      "_model_module": "@jupyter-widgets/controls",
      "layout": "IPY_MODEL_7db135cc7ace464891ccc4b72e995ceb"
     }
    },
    "ab18619b448445da8338463888c55f90": {
     "model_module": "@jupyter-widgets/controls",
     "model_name": "FloatProgressModel",
     "model_module_version": "1.5.0",
     "state": {
      "_view_name": "ProgressView",
      "style": "IPY_MODEL_87ffab60a47e4383a85ca7343f7e5c11",
      "_dom_classes": [],
      "description": "",
      "_model_name": "FloatProgressModel",
      "bar_style": "success",
      "max": 440473133,
      "_view_module": "@jupyter-widgets/controls",
      "_model_module_version": "1.5.0",
      "value": 440473133,
      "_view_count": null,
      "_view_module_version": "1.5.0",
      "orientation": "horizontal",
      "min": 0,
      "description_tooltip": null,
      "_model_module": "@jupyter-widgets/controls",
      "layout": "IPY_MODEL_5492f98a609345f59710fe9fd3fc69e7"
     }
    },
    "cebf4ad97bef40aeb0504847b2cbc308": {
     "model_module": "@jupyter-widgets/controls",
     "model_name": "HTMLModel",
     "model_module_version": "1.5.0",
     "state": {
      "_view_name": "HTMLView",
      "style": "IPY_MODEL_03e36ee40457453dbfc747e093235e49",
      "_dom_classes": [],
      "description": "",
      "_model_name": "HTMLModel",
      "placeholder": "​",
      "_view_module": "@jupyter-widgets/controls",
      "_model_module_version": "1.5.0",
      "value": " 420M/420M [00:09&lt;00:00, 45.2MB/s]",
      "_view_count": null,
      "_view_module_version": "1.5.0",
      "description_tooltip": null,
      "_model_module": "@jupyter-widgets/controls",
      "layout": "IPY_MODEL_10817345bc684cff90008b00e14ae1d2"
     }
    },
    "196dd840bffb4da8abc5f614c4ec28fc": {
     "model_module": "@jupyter-widgets/controls",
     "model_name": "DescriptionStyleModel",
     "model_module_version": "1.5.0",
     "state": {
      "_view_name": "StyleView",
      "_model_name": "DescriptionStyleModel",
      "description_width": "",
      "_view_module": "@jupyter-widgets/base",
      "_model_module_version": "1.5.0",
      "_view_count": null,
      "_view_module_version": "1.2.0",
      "_model_module": "@jupyter-widgets/controls"
     }
    },
    "7db135cc7ace464891ccc4b72e995ceb": {
     "model_module": "@jupyter-widgets/base",
     "model_name": "LayoutModel",
     "model_module_version": "1.2.0",
     "state": {
      "_view_name": "LayoutView",
      "grid_template_rows": null,
      "right": null,
      "justify_content": null,
      "_view_module": "@jupyter-widgets/base",
      "overflow": null,
      "_model_module_version": "1.2.0",
      "_view_count": null,
      "flex_flow": null,
      "width": null,
      "min_width": null,
      "border": null,
      "align_items": null,
      "bottom": null,
      "_model_module": "@jupyter-widgets/base",
      "top": null,
      "grid_column": null,
      "overflow_y": null,
      "overflow_x": null,
      "grid_auto_flow": null,
      "grid_area": null,
      "grid_template_columns": null,
      "flex": null,
      "_model_name": "LayoutModel",
      "justify_items": null,
      "grid_row": null,
      "max_height": null,
      "align_content": null,
      "visibility": null,
      "align_self": null,
      "height": null,
      "min_height": null,
      "padding": null,
      "grid_auto_rows": null,
      "grid_gap": null,
      "max_width": null,
      "order": null,
      "_view_module_version": "1.2.0",
      "grid_template_areas": null,
      "object_position": null,
      "object_fit": null,
      "grid_auto_columns": null,
      "margin": null,
      "display": null,
      "left": null
     }
    },
    "87ffab60a47e4383a85ca7343f7e5c11": {
     "model_module": "@jupyter-widgets/controls",
     "model_name": "ProgressStyleModel",
     "model_module_version": "1.5.0",
     "state": {
      "_view_name": "StyleView",
      "_model_name": "ProgressStyleModel",
      "description_width": "",
      "_view_module": "@jupyter-widgets/base",
      "_model_module_version": "1.5.0",
      "_view_count": null,
      "_view_module_version": "1.2.0",
      "bar_color": null,
      "_model_module": "@jupyter-widgets/controls"
     }
    },
    "5492f98a609345f59710fe9fd3fc69e7": {
     "model_module": "@jupyter-widgets/base",
     "model_name": "LayoutModel",
     "model_module_version": "1.2.0",
     "state": {
      "_view_name": "LayoutView",
      "grid_template_rows": null,
      "right": null,
      "justify_content": null,
      "_view_module": "@jupyter-widgets/base",
      "overflow": null,
      "_model_module_version": "1.2.0",
      "_view_count": null,
      "flex_flow": null,
      "width": null,
      "min_width": null,
      "border": null,
      "align_items": null,
      "bottom": null,
      "_model_module": "@jupyter-widgets/base",
      "top": null,
      "grid_column": null,
      "overflow_y": null,
      "overflow_x": null,
      "grid_auto_flow": null,
      "grid_area": null,
      "grid_template_columns": null,
      "flex": null,
      "_model_name": "LayoutModel",
      "justify_items": null,
      "grid_row": null,
      "max_height": null,
      "align_content": null,
      "visibility": null,
      "align_self": null,
      "height": null,
      "min_height": null,
      "padding": null,
      "grid_auto_rows": null,
      "grid_gap": null,
      "max_width": null,
      "order": null,
      "_view_module_version": "1.2.0",
      "grid_template_areas": null,
      "object_position": null,
      "object_fit": null,
      "grid_auto_columns": null,
      "margin": null,
      "display": null,
      "left": null
     }
    },
    "03e36ee40457453dbfc747e093235e49": {
     "model_module": "@jupyter-widgets/controls",
     "model_name": "DescriptionStyleModel",
     "model_module_version": "1.5.0",
     "state": {
      "_view_name": "StyleView",
      "_model_name": "DescriptionStyleModel",
      "description_width": "",
      "_view_module": "@jupyter-widgets/base",
      "_model_module_version": "1.5.0",
      "_view_count": null,
      "_view_module_version": "1.2.0",
      "_model_module": "@jupyter-widgets/controls"
     }
    },
    "10817345bc684cff90008b00e14ae1d2": {
     "model_module": "@jupyter-widgets/base",
     "model_name": "LayoutModel",
     "model_module_version": "1.2.0",
     "state": {
      "_view_name": "LayoutView",
      "grid_template_rows": null,
      "right": null,
      "justify_content": null,
      "_view_module": "@jupyter-widgets/base",
      "overflow": null,
      "_model_module_version": "1.2.0",
      "_view_count": null,
      "flex_flow": null,
      "width": null,
      "min_width": null,
      "border": null,
      "align_items": null,
      "bottom": null,
      "_model_module": "@jupyter-widgets/base",
      "top": null,
      "grid_column": null,
      "overflow_y": null,
      "overflow_x": null,
      "grid_auto_flow": null,
      "grid_area": null,
      "grid_template_columns": null,
      "flex": null,
      "_model_name": "LayoutModel",
      "justify_items": null,
      "grid_row": null,
      "max_height": null,
      "align_content": null,
      "visibility": null,
      "align_self": null,
      "height": null,
      "min_height": null,
      "padding": null,
      "grid_auto_rows": null,
      "grid_gap": null,
      "max_width": null,
      "order": null,
      "_view_module_version": "1.2.0",
      "grid_template_areas": null,
      "object_position": null,
      "object_fit": null,
      "grid_auto_columns": null,
      "margin": null,
      "display": null,
      "left": null
     }
    },
    "1aca761a75fc4f129212acf3d69089ed": {
     "model_module": "@jupyter-widgets/controls",
     "model_name": "HBoxModel",
     "model_module_version": "1.5.0",
     "state": {
      "_view_name": "HBoxView",
      "_dom_classes": [],
      "_model_name": "HBoxModel",
      "_view_module": "@jupyter-widgets/controls",
      "_model_module_version": "1.5.0",
      "_view_count": null,
      "_view_module_version": "1.5.0",
      "box_style": "",
      "layout": "IPY_MODEL_05861f740b0643d683a6a7ab7b03763e",
      "_model_module": "@jupyter-widgets/controls",
      "children": [
       "IPY_MODEL_381121a33d7e4ff69aa3b2b139e767a8",
       "IPY_MODEL_4b71a851c47b4b9a82c6db28d59eeb28",
       "IPY_MODEL_81dbcc7f9ca04fbebbaadd2dda36d7ad"
      ]
     }
    },
    "05861f740b0643d683a6a7ab7b03763e": {
     "model_module": "@jupyter-widgets/base",
     "model_name": "LayoutModel",
     "model_module_version": "1.2.0",
     "state": {
      "_view_name": "LayoutView",
      "grid_template_rows": null,
      "right": null,
      "justify_content": null,
      "_view_module": "@jupyter-widgets/base",
      "overflow": null,
      "_model_module_version": "1.2.0",
      "_view_count": null,
      "flex_flow": null,
      "width": null,
      "min_width": null,
      "border": null,
      "align_items": null,
      "bottom": null,
      "_model_module": "@jupyter-widgets/base",
      "top": null,
      "grid_column": null,
      "overflow_y": null,
      "overflow_x": null,
      "grid_auto_flow": null,
      "grid_area": null,
      "grid_template_columns": null,
      "flex": null,
      "_model_name": "LayoutModel",
      "justify_items": null,
      "grid_row": null,
      "max_height": null,
      "align_content": null,
      "visibility": null,
      "align_self": null,
      "height": null,
      "min_height": null,
      "padding": null,
      "grid_auto_rows": null,
      "grid_gap": null,
      "max_width": null,
      "order": null,
      "_view_module_version": "1.2.0",
      "grid_template_areas": null,
      "object_position": null,
      "object_fit": null,
      "grid_auto_columns": null,
      "margin": null,
      "display": null,
      "left": null
     }
    },
    "381121a33d7e4ff69aa3b2b139e767a8": {
     "model_module": "@jupyter-widgets/controls",
     "model_name": "HTMLModel",
     "model_module_version": "1.5.0",
     "state": {
      "_view_name": "HTMLView",
      "style": "IPY_MODEL_00e90143cdc347fe94d6a7395e4e8048",
      "_dom_classes": [],
      "description": "",
      "_model_name": "HTMLModel",
      "placeholder": "​",
      "_view_module": "@jupyter-widgets/controls",
      "_model_module_version": "1.5.0",
      "value": "Downloading: 100%",
      "_view_count": null,
      "_view_module_version": "1.5.0",
      "description_tooltip": null,
      "_model_module": "@jupyter-widgets/controls",
      "layout": "IPY_MODEL_5dbadb07e2bc4e8589cf4d2e9e601a61"
     }
    },
    "4b71a851c47b4b9a82c6db28d59eeb28": {
     "model_module": "@jupyter-widgets/controls",
     "model_name": "FloatProgressModel",
     "model_module_version": "1.5.0",
     "state": {
      "_view_name": "ProgressView",
      "style": "IPY_MODEL_c90382d338c249079a3981f9018bd9a5",
      "_dom_classes": [],
      "description": "",
      "_model_name": "FloatProgressModel",
      "bar_style": "success",
      "max": 231508,
      "_view_module": "@jupyter-widgets/controls",
      "_model_module_version": "1.5.0",
      "value": 231508,
      "_view_count": null,
      "_view_module_version": "1.5.0",
      "orientation": "horizontal",
      "min": 0,
      "description_tooltip": null,
      "_model_module": "@jupyter-widgets/controls",
      "layout": "IPY_MODEL_5867f3a3b9654bdca20eb5414d1ac53d"
     }
    },
    "81dbcc7f9ca04fbebbaadd2dda36d7ad": {
     "model_module": "@jupyter-widgets/controls",
     "model_name": "HTMLModel",
     "model_module_version": "1.5.0",
     "state": {
      "_view_name": "HTMLView",
      "style": "IPY_MODEL_48b830482b014741918bf90beab92066",
      "_dom_classes": [],
      "description": "",
      "_model_name": "HTMLModel",
      "placeholder": "​",
      "_view_module": "@jupyter-widgets/controls",
      "_model_module_version": "1.5.0",
      "value": " 226k/226k [00:00&lt;00:00, 677kB/s]",
      "_view_count": null,
      "_view_module_version": "1.5.0",
      "description_tooltip": null,
      "_model_module": "@jupyter-widgets/controls",
      "layout": "IPY_MODEL_613015b389394880a901946e20fc5c32"
     }
    },
    "00e90143cdc347fe94d6a7395e4e8048": {
     "model_module": "@jupyter-widgets/controls",
     "model_name": "DescriptionStyleModel",
     "model_module_version": "1.5.0",
     "state": {
      "_view_name": "StyleView",
      "_model_name": "DescriptionStyleModel",
      "description_width": "",
      "_view_module": "@jupyter-widgets/base",
      "_model_module_version": "1.5.0",
      "_view_count": null,
      "_view_module_version": "1.2.0",
      "_model_module": "@jupyter-widgets/controls"
     }
    },
    "5dbadb07e2bc4e8589cf4d2e9e601a61": {
     "model_module": "@jupyter-widgets/base",
     "model_name": "LayoutModel",
     "model_module_version": "1.2.0",
     "state": {
      "_view_name": "LayoutView",
      "grid_template_rows": null,
      "right": null,
      "justify_content": null,
      "_view_module": "@jupyter-widgets/base",
      "overflow": null,
      "_model_module_version": "1.2.0",
      "_view_count": null,
      "flex_flow": null,
      "width": null,
      "min_width": null,
      "border": null,
      "align_items": null,
      "bottom": null,
      "_model_module": "@jupyter-widgets/base",
      "top": null,
      "grid_column": null,
      "overflow_y": null,
      "overflow_x": null,
      "grid_auto_flow": null,
      "grid_area": null,
      "grid_template_columns": null,
      "flex": null,
      "_model_name": "LayoutModel",
      "justify_items": null,
      "grid_row": null,
      "max_height": null,
      "align_content": null,
      "visibility": null,
      "align_self": null,
      "height": null,
      "min_height": null,
      "padding": null,
      "grid_auto_rows": null,
      "grid_gap": null,
      "max_width": null,
      "order": null,
      "_view_module_version": "1.2.0",
      "grid_template_areas": null,
      "object_position": null,
      "object_fit": null,
      "grid_auto_columns": null,
      "margin": null,
      "display": null,
      "left": null
     }
    },
    "c90382d338c249079a3981f9018bd9a5": {
     "model_module": "@jupyter-widgets/controls",
     "model_name": "ProgressStyleModel",
     "model_module_version": "1.5.0",
     "state": {
      "_view_name": "StyleView",
      "_model_name": "ProgressStyleModel",
      "description_width": "",
      "_view_module": "@jupyter-widgets/base",
      "_model_module_version": "1.5.0",
      "_view_count": null,
      "_view_module_version": "1.2.0",
      "bar_color": null,
      "_model_module": "@jupyter-widgets/controls"
     }
    },
    "5867f3a3b9654bdca20eb5414d1ac53d": {
     "model_module": "@jupyter-widgets/base",
     "model_name": "LayoutModel",
     "model_module_version": "1.2.0",
     "state": {
      "_view_name": "LayoutView",
      "grid_template_rows": null,
      "right": null,
      "justify_content": null,
      "_view_module": "@jupyter-widgets/base",
      "overflow": null,
      "_model_module_version": "1.2.0",
      "_view_count": null,
      "flex_flow": null,
      "width": null,
      "min_width": null,
      "border": null,
      "align_items": null,
      "bottom": null,
      "_model_module": "@jupyter-widgets/base",
      "top": null,
      "grid_column": null,
      "overflow_y": null,
      "overflow_x": null,
      "grid_auto_flow": null,
      "grid_area": null,
      "grid_template_columns": null,
      "flex": null,
      "_model_name": "LayoutModel",
      "justify_items": null,
      "grid_row": null,
      "max_height": null,
      "align_content": null,
      "visibility": null,
      "align_self": null,
      "height": null,
      "min_height": null,
      "padding": null,
      "grid_auto_rows": null,
      "grid_gap": null,
      "max_width": null,
      "order": null,
      "_view_module_version": "1.2.0",
      "grid_template_areas": null,
      "object_position": null,
      "object_fit": null,
      "grid_auto_columns": null,
      "margin": null,
      "display": null,
      "left": null
     }
    },
    "48b830482b014741918bf90beab92066": {
     "model_module": "@jupyter-widgets/controls",
     "model_name": "DescriptionStyleModel",
     "model_module_version": "1.5.0",
     "state": {
      "_view_name": "StyleView",
      "_model_name": "DescriptionStyleModel",
      "description_width": "",
      "_view_module": "@jupyter-widgets/base",
      "_model_module_version": "1.5.0",
      "_view_count": null,
      "_view_module_version": "1.2.0",
      "_model_module": "@jupyter-widgets/controls"
     }
    },
    "613015b389394880a901946e20fc5c32": {
     "model_module": "@jupyter-widgets/base",
     "model_name": "LayoutModel",
     "model_module_version": "1.2.0",
     "state": {
      "_view_name": "LayoutView",
      "grid_template_rows": null,
      "right": null,
      "justify_content": null,
      "_view_module": "@jupyter-widgets/base",
      "overflow": null,
      "_model_module_version": "1.2.0",
      "_view_count": null,
      "flex_flow": null,
      "width": null,
      "min_width": null,
      "border": null,
      "align_items": null,
      "bottom": null,
      "_model_module": "@jupyter-widgets/base",
      "top": null,
      "grid_column": null,
      "overflow_y": null,
      "overflow_x": null,
      "grid_auto_flow": null,
      "grid_area": null,
      "grid_template_columns": null,
      "flex": null,
      "_model_name": "LayoutModel",
      "justify_items": null,
      "grid_row": null,
      "max_height": null,
      "align_content": null,
      "visibility": null,
      "align_self": null,
      "height": null,
      "min_height": null,
      "padding": null,
      "grid_auto_rows": null,
      "grid_gap": null,
      "max_width": null,
      "order": null,
      "_view_module_version": "1.2.0",
      "grid_template_areas": null,
      "object_position": null,
      "object_fit": null,
      "grid_auto_columns": null,
      "margin": null,
      "display": null,
      "left": null
     }
    },
    "bf5c148be5aa4ce1a1a36d4d0f99c3d6": {
     "model_module": "@jupyter-widgets/controls",
     "model_name": "HBoxModel",
     "model_module_version": "1.5.0",
     "state": {
      "_view_name": "HBoxView",
      "_dom_classes": [],
      "_model_name": "HBoxModel",
      "_view_module": "@jupyter-widgets/controls",
      "_model_module_version": "1.5.0",
      "_view_count": null,
      "_view_module_version": "1.5.0",
      "box_style": "",
      "layout": "IPY_MODEL_f5584b298ab24a8a859d1f303b7c405d",
      "_model_module": "@jupyter-widgets/controls",
      "children": [
       "IPY_MODEL_a9c1d7b2c23c40a7875bbe046ca3cf18",
       "IPY_MODEL_b5285e51285341e1be633460b5a636b6",
       "IPY_MODEL_8a5216fb4e444ca6aa89ffe1e2025379"
      ]
     }
    },
    "f5584b298ab24a8a859d1f303b7c405d": {
     "model_module": "@jupyter-widgets/base",
     "model_name": "LayoutModel",
     "model_module_version": "1.2.0",
     "state": {
      "_view_name": "LayoutView",
      "grid_template_rows": null,
      "right": null,
      "justify_content": null,
      "_view_module": "@jupyter-widgets/base",
      "overflow": null,
      "_model_module_version": "1.2.0",
      "_view_count": null,
      "flex_flow": null,
      "width": null,
      "min_width": null,
      "border": null,
      "align_items": null,
      "bottom": null,
      "_model_module": "@jupyter-widgets/base",
      "top": null,
      "grid_column": null,
      "overflow_y": null,
      "overflow_x": null,
      "grid_auto_flow": null,
      "grid_area": null,
      "grid_template_columns": null,
      "flex": null,
      "_model_name": "LayoutModel",
      "justify_items": null,
      "grid_row": null,
      "max_height": null,
      "align_content": null,
      "visibility": null,
      "align_self": null,
      "height": null,
      "min_height": null,
      "padding": null,
      "grid_auto_rows": null,
      "grid_gap": null,
      "max_width": null,
      "order": null,
      "_view_module_version": "1.2.0",
      "grid_template_areas": null,
      "object_position": null,
      "object_fit": null,
      "grid_auto_columns": null,
      "margin": null,
      "display": null,
      "left": null
     }
    },
    "a9c1d7b2c23c40a7875bbe046ca3cf18": {
     "model_module": "@jupyter-widgets/controls",
     "model_name": "HTMLModel",
     "model_module_version": "1.5.0",
     "state": {
      "_view_name": "HTMLView",
      "style": "IPY_MODEL_f3cce982fe5a486b97e0f7042a8eb8cc",
      "_dom_classes": [],
      "description": "",
      "_model_name": "HTMLModel",
      "placeholder": "​",
      "_view_module": "@jupyter-widgets/controls",
      "_model_module_version": "1.5.0",
      "value": "Downloading: 100%",
      "_view_count": null,
      "_view_module_version": "1.5.0",
      "description_tooltip": null,
      "_model_module": "@jupyter-widgets/controls",
      "layout": "IPY_MODEL_96f7f517310843d6a9bc98c8b7080040"
     }
    },
    "b5285e51285341e1be633460b5a636b6": {
     "model_module": "@jupyter-widgets/controls",
     "model_name": "FloatProgressModel",
     "model_module_version": "1.5.0",
     "state": {
      "_view_name": "ProgressView",
      "style": "IPY_MODEL_91525fee95fe43b09acdfb1767d6dba0",
      "_dom_classes": [],
      "description": "",
      "_model_name": "FloatProgressModel",
      "bar_style": "success",
      "max": 28,
      "_view_module": "@jupyter-widgets/controls",
      "_model_module_version": "1.5.0",
      "value": 28,
      "_view_count": null,
      "_view_module_version": "1.5.0",
      "orientation": "horizontal",
      "min": 0,
      "description_tooltip": null,
      "_model_module": "@jupyter-widgets/controls",
      "layout": "IPY_MODEL_54afc941c6e14222b45f5fb6704eb2b7"
     }
    },
    "8a5216fb4e444ca6aa89ffe1e2025379": {
     "model_module": "@jupyter-widgets/controls",
     "model_name": "HTMLModel",
     "model_module_version": "1.5.0",
     "state": {
      "_view_name": "HTMLView",
      "style": "IPY_MODEL_a3c5f4934ff34d349177d64a81dca1bc",
      "_dom_classes": [],
      "description": "",
      "_model_name": "HTMLModel",
      "placeholder": "​",
      "_view_module": "@jupyter-widgets/controls",
      "_model_module_version": "1.5.0",
      "value": " 28.0/28.0 [00:00&lt;00:00, 706B/s]",
      "_view_count": null,
      "_view_module_version": "1.5.0",
      "description_tooltip": null,
      "_model_module": "@jupyter-widgets/controls",
      "layout": "IPY_MODEL_d933335880f84276bc40d5e822474ff3"
     }
    },
    "f3cce982fe5a486b97e0f7042a8eb8cc": {
     "model_module": "@jupyter-widgets/controls",
     "model_name": "DescriptionStyleModel",
     "model_module_version": "1.5.0",
     "state": {
      "_view_name": "StyleView",
      "_model_name": "DescriptionStyleModel",
      "description_width": "",
      "_view_module": "@jupyter-widgets/base",
      "_model_module_version": "1.5.0",
      "_view_count": null,
      "_view_module_version": "1.2.0",
      "_model_module": "@jupyter-widgets/controls"
     }
    },
    "96f7f517310843d6a9bc98c8b7080040": {
     "model_module": "@jupyter-widgets/base",
     "model_name": "LayoutModel",
     "model_module_version": "1.2.0",
     "state": {
      "_view_name": "LayoutView",
      "grid_template_rows": null,
      "right": null,
      "justify_content": null,
      "_view_module": "@jupyter-widgets/base",
      "overflow": null,
      "_model_module_version": "1.2.0",
      "_view_count": null,
      "flex_flow": null,
      "width": null,
      "min_width": null,
      "border": null,
      "align_items": null,
      "bottom": null,
      "_model_module": "@jupyter-widgets/base",
      "top": null,
      "grid_column": null,
      "overflow_y": null,
      "overflow_x": null,
      "grid_auto_flow": null,
      "grid_area": null,
      "grid_template_columns": null,
      "flex": null,
      "_model_name": "LayoutModel",
      "justify_items": null,
      "grid_row": null,
      "max_height": null,
      "align_content": null,
      "visibility": null,
      "align_self": null,
      "height": null,
      "min_height": null,
      "padding": null,
      "grid_auto_rows": null,
      "grid_gap": null,
      "max_width": null,
      "order": null,
      "_view_module_version": "1.2.0",
      "grid_template_areas": null,
      "object_position": null,
      "object_fit": null,
      "grid_auto_columns": null,
      "margin": null,
      "display": null,
      "left": null
     }
    },
    "91525fee95fe43b09acdfb1767d6dba0": {
     "model_module": "@jupyter-widgets/controls",
     "model_name": "ProgressStyleModel",
     "model_module_version": "1.5.0",
     "state": {
      "_view_name": "StyleView",
      "_model_name": "ProgressStyleModel",
      "description_width": "",
      "_view_module": "@jupyter-widgets/base",
      "_model_module_version": "1.5.0",
      "_view_count": null,
      "_view_module_version": "1.2.0",
      "bar_color": null,
      "_model_module": "@jupyter-widgets/controls"
     }
    },
    "54afc941c6e14222b45f5fb6704eb2b7": {
     "model_module": "@jupyter-widgets/base",
     "model_name": "LayoutModel",
     "model_module_version": "1.2.0",
     "state": {
      "_view_name": "LayoutView",
      "grid_template_rows": null,
      "right": null,
      "justify_content": null,
      "_view_module": "@jupyter-widgets/base",
      "overflow": null,
      "_model_module_version": "1.2.0",
      "_view_count": null,
      "flex_flow": null,
      "width": null,
      "min_width": null,
      "border": null,
      "align_items": null,
      "bottom": null,
      "_model_module": "@jupyter-widgets/base",
      "top": null,
      "grid_column": null,
      "overflow_y": null,
      "overflow_x": null,
      "grid_auto_flow": null,
      "grid_area": null,
      "grid_template_columns": null,
      "flex": null,
      "_model_name": "LayoutModel",
      "justify_items": null,
      "grid_row": null,
      "max_height": null,
      "align_content": null,
      "visibility": null,
      "align_self": null,
      "height": null,
      "min_height": null,
      "padding": null,
      "grid_auto_rows": null,
      "grid_gap": null,
      "max_width": null,
      "order": null,
      "_view_module_version": "1.2.0",
      "grid_template_areas": null,
      "object_position": null,
      "object_fit": null,
      "grid_auto_columns": null,
      "margin": null,
      "display": null,
      "left": null
     }
    },
    "a3c5f4934ff34d349177d64a81dca1bc": {
     "model_module": "@jupyter-widgets/controls",
     "model_name": "DescriptionStyleModel",
     "model_module_version": "1.5.0",
     "state": {
      "_view_name": "StyleView",
      "_model_name": "DescriptionStyleModel",
      "description_width": "",
      "_view_module": "@jupyter-widgets/base",
      "_model_module_version": "1.5.0",
      "_view_count": null,
      "_view_module_version": "1.2.0",
      "_model_module": "@jupyter-widgets/controls"
     }
    },
    "d933335880f84276bc40d5e822474ff3": {
     "model_module": "@jupyter-widgets/base",
     "model_name": "LayoutModel",
     "model_module_version": "1.2.0",
     "state": {
      "_view_name": "LayoutView",
      "grid_template_rows": null,
      "right": null,
      "justify_content": null,
      "_view_module": "@jupyter-widgets/base",
      "overflow": null,
      "_model_module_version": "1.2.0",
      "_view_count": null,
      "flex_flow": null,
      "width": null,
      "min_width": null,
      "border": null,
      "align_items": null,
      "bottom": null,
      "_model_module": "@jupyter-widgets/base",
      "top": null,
      "grid_column": null,
      "overflow_y": null,
      "overflow_x": null,
      "grid_auto_flow": null,
      "grid_area": null,
      "grid_template_columns": null,
      "flex": null,
      "_model_name": "LayoutModel",
      "justify_items": null,
      "grid_row": null,
      "max_height": null,
      "align_content": null,
      "visibility": null,
      "align_self": null,
      "height": null,
      "min_height": null,
      "padding": null,
      "grid_auto_rows": null,
      "grid_gap": null,
      "max_width": null,
      "order": null,
      "_view_module_version": "1.2.0",
      "grid_template_areas": null,
      "object_position": null,
      "object_fit": null,
      "grid_auto_columns": null,
      "margin": null,
      "display": null,
      "left": null
     }
    },
    "146cc14ca61f41d19ba58ae2db25725b": {
     "model_module": "@jupyter-widgets/controls",
     "model_name": "HBoxModel",
     "model_module_version": "1.5.0",
     "state": {
      "_view_name": "HBoxView",
      "_dom_classes": [],
      "_model_name": "HBoxModel",
      "_view_module": "@jupyter-widgets/controls",
      "_model_module_version": "1.5.0",
      "_view_count": null,
      "_view_module_version": "1.5.0",
      "box_style": "",
      "layout": "IPY_MODEL_2035ee1350094d7eb3bce0a67f65a61c",
      "_model_module": "@jupyter-widgets/controls",
      "children": [
       "IPY_MODEL_2725d210371a475fbffcacaadc16785d",
       "IPY_MODEL_7d9a90d1557b4785ac90499c76f55eee",
       "IPY_MODEL_b7808548b2294cb8bcc36b11f99fe307"
      ]
     }
    },
    "2035ee1350094d7eb3bce0a67f65a61c": {
     "model_module": "@jupyter-widgets/base",
     "model_name": "LayoutModel",
     "model_module_version": "1.2.0",
     "state": {
      "_view_name": "LayoutView",
      "grid_template_rows": null,
      "right": null,
      "justify_content": null,
      "_view_module": "@jupyter-widgets/base",
      "overflow": null,
      "_model_module_version": "1.2.0",
      "_view_count": null,
      "flex_flow": null,
      "width": null,
      "min_width": null,
      "border": null,
      "align_items": null,
      "bottom": null,
      "_model_module": "@jupyter-widgets/base",
      "top": null,
      "grid_column": null,
      "overflow_y": null,
      "overflow_x": null,
      "grid_auto_flow": null,
      "grid_area": null,
      "grid_template_columns": null,
      "flex": null,
      "_model_name": "LayoutModel",
      "justify_items": null,
      "grid_row": null,
      "max_height": null,
      "align_content": null,
      "visibility": null,
      "align_self": null,
      "height": null,
      "min_height": null,
      "padding": null,
      "grid_auto_rows": null,
      "grid_gap": null,
      "max_width": null,
      "order": null,
      "_view_module_version": "1.2.0",
      "grid_template_areas": null,
      "object_position": null,
      "object_fit": null,
      "grid_auto_columns": null,
      "margin": null,
      "display": null,
      "left": null
     }
    },
    "2725d210371a475fbffcacaadc16785d": {
     "model_module": "@jupyter-widgets/controls",
     "model_name": "HTMLModel",
     "model_module_version": "1.5.0",
     "state": {
      "_view_name": "HTMLView",
      "style": "IPY_MODEL_1483c0d587714f85a5fcca4419259304",
      "_dom_classes": [],
      "description": "",
      "_model_name": "HTMLModel",
      "placeholder": "​",
      "_view_module": "@jupyter-widgets/controls",
      "_model_module_version": "1.5.0",
      "value": "Downloading: 100%",
      "_view_count": null,
      "_view_module_version": "1.5.0",
      "description_tooltip": null,
      "_model_module": "@jupyter-widgets/controls",
      "layout": "IPY_MODEL_68290e5454af45fa9a7e219164cc6911"
     }
    },
    "7d9a90d1557b4785ac90499c76f55eee": {
     "model_module": "@jupyter-widgets/controls",
     "model_name": "FloatProgressModel",
     "model_module_version": "1.5.0",
     "state": {
      "_view_name": "ProgressView",
      "style": "IPY_MODEL_6a99bc9da69543929c68d7ea022d52ae",
      "_dom_classes": [],
      "description": "",
      "_model_name": "FloatProgressModel",
      "bar_style": "success",
      "max": 466062,
      "_view_module": "@jupyter-widgets/controls",
      "_model_module_version": "1.5.0",
      "value": 466062,
      "_view_count": null,
      "_view_module_version": "1.5.0",
      "orientation": "horizontal",
      "min": 0,
      "description_tooltip": null,
      "_model_module": "@jupyter-widgets/controls",
      "layout": "IPY_MODEL_554c86f71335443aaeb40e7bd454f395"
     }
    },
    "b7808548b2294cb8bcc36b11f99fe307": {
     "model_module": "@jupyter-widgets/controls",
     "model_name": "HTMLModel",
     "model_module_version": "1.5.0",
     "state": {
      "_view_name": "HTMLView",
      "style": "IPY_MODEL_f317c0bf4a1d4bdd83abed659895bee0",
      "_dom_classes": [],
      "description": "",
      "_model_name": "HTMLModel",
      "placeholder": "​",
      "_view_module": "@jupyter-widgets/controls",
      "_model_module_version": "1.5.0",
      "value": " 455k/455k [00:00&lt;00:00, 763kB/s]",
      "_view_count": null,
      "_view_module_version": "1.5.0",
      "description_tooltip": null,
      "_model_module": "@jupyter-widgets/controls",
      "layout": "IPY_MODEL_e8b1a96e3a494fcda75753b77f269c1b"
     }
    },
    "1483c0d587714f85a5fcca4419259304": {
     "model_module": "@jupyter-widgets/controls",
     "model_name": "DescriptionStyleModel",
     "model_module_version": "1.5.0",
     "state": {
      "_view_name": "StyleView",
      "_model_name": "DescriptionStyleModel",
      "description_width": "",
      "_view_module": "@jupyter-widgets/base",
      "_model_module_version": "1.5.0",
      "_view_count": null,
      "_view_module_version": "1.2.0",
      "_model_module": "@jupyter-widgets/controls"
     }
    },
    "68290e5454af45fa9a7e219164cc6911": {
     "model_module": "@jupyter-widgets/base",
     "model_name": "LayoutModel",
     "model_module_version": "1.2.0",
     "state": {
      "_view_name": "LayoutView",
      "grid_template_rows": null,
      "right": null,
      "justify_content": null,
      "_view_module": "@jupyter-widgets/base",
      "overflow": null,
      "_model_module_version": "1.2.0",
      "_view_count": null,
      "flex_flow": null,
      "width": null,
      "min_width": null,
      "border": null,
      "align_items": null,
      "bottom": null,
      "_model_module": "@jupyter-widgets/base",
      "top": null,
      "grid_column": null,
      "overflow_y": null,
      "overflow_x": null,
      "grid_auto_flow": null,
      "grid_area": null,
      "grid_template_columns": null,
      "flex": null,
      "_model_name": "LayoutModel",
      "justify_items": null,
      "grid_row": null,
      "max_height": null,
      "align_content": null,
      "visibility": null,
      "align_self": null,
      "height": null,
      "min_height": null,
      "padding": null,
      "grid_auto_rows": null,
      "grid_gap": null,
      "max_width": null,
      "order": null,
      "_view_module_version": "1.2.0",
      "grid_template_areas": null,
      "object_position": null,
      "object_fit": null,
      "grid_auto_columns": null,
      "margin": null,
      "display": null,
      "left": null
     }
    },
    "6a99bc9da69543929c68d7ea022d52ae": {
     "model_module": "@jupyter-widgets/controls",
     "model_name": "ProgressStyleModel",
     "model_module_version": "1.5.0",
     "state": {
      "_view_name": "StyleView",
      "_model_name": "ProgressStyleModel",
      "description_width": "",
      "_view_module": "@jupyter-widgets/base",
      "_model_module_version": "1.5.0",
      "_view_count": null,
      "_view_module_version": "1.2.0",
      "bar_color": null,
      "_model_module": "@jupyter-widgets/controls"
     }
    },
    "554c86f71335443aaeb40e7bd454f395": {
     "model_module": "@jupyter-widgets/base",
     "model_name": "LayoutModel",
     "model_module_version": "1.2.0",
     "state": {
      "_view_name": "LayoutView",
      "grid_template_rows": null,
      "right": null,
      "justify_content": null,
      "_view_module": "@jupyter-widgets/base",
      "overflow": null,
      "_model_module_version": "1.2.0",
      "_view_count": null,
      "flex_flow": null,
      "width": null,
      "min_width": null,
      "border": null,
      "align_items": null,
      "bottom": null,
      "_model_module": "@jupyter-widgets/base",
      "top": null,
      "grid_column": null,
      "overflow_y": null,
      "overflow_x": null,
      "grid_auto_flow": null,
      "grid_area": null,
      "grid_template_columns": null,
      "flex": null,
      "_model_name": "LayoutModel",
      "justify_items": null,
      "grid_row": null,
      "max_height": null,
      "align_content": null,
      "visibility": null,
      "align_self": null,
      "height": null,
      "min_height": null,
      "padding": null,
      "grid_auto_rows": null,
      "grid_gap": null,
      "max_width": null,
      "order": null,
      "_view_module_version": "1.2.0",
      "grid_template_areas": null,
      "object_position": null,
      "object_fit": null,
      "grid_auto_columns": null,
      "margin": null,
      "display": null,
      "left": null
     }
    },
    "f317c0bf4a1d4bdd83abed659895bee0": {
     "model_module": "@jupyter-widgets/controls",
     "model_name": "DescriptionStyleModel",
     "model_module_version": "1.5.0",
     "state": {
      "_view_name": "StyleView",
      "_model_name": "DescriptionStyleModel",
      "description_width": "",
      "_view_module": "@jupyter-widgets/base",
      "_model_module_version": "1.5.0",
      "_view_count": null,
      "_view_module_version": "1.2.0",
      "_model_module": "@jupyter-widgets/controls"
     }
    },
    "e8b1a96e3a494fcda75753b77f269c1b": {
     "model_module": "@jupyter-widgets/base",
     "model_name": "LayoutModel",
     "model_module_version": "1.2.0",
     "state": {
      "_view_name": "LayoutView",
      "grid_template_rows": null,
      "right": null,
      "justify_content": null,
      "_view_module": "@jupyter-widgets/base",
      "overflow": null,
      "_model_module_version": "1.2.0",
      "_view_count": null,
      "flex_flow": null,
      "width": null,
      "min_width": null,
      "border": null,
      "align_items": null,
      "bottom": null,
      "_model_module": "@jupyter-widgets/base",
      "top": null,
      "grid_column": null,
      "overflow_y": null,
      "overflow_x": null,
      "grid_auto_flow": null,
      "grid_area": null,
      "grid_template_columns": null,
      "flex": null,
      "_model_name": "LayoutModel",
      "justify_items": null,
      "grid_row": null,
      "max_height": null,
      "align_content": null,
      "visibility": null,
      "align_self": null,
      "height": null,
      "min_height": null,
      "padding": null,
      "grid_auto_rows": null,
      "grid_gap": null,
      "max_width": null,
      "order": null,
      "_view_module_version": "1.2.0",
      "grid_template_areas": null,
      "object_position": null,
      "object_fit": null,
      "grid_auto_columns": null,
      "margin": null,
      "display": null,
      "left": null
     }
    }
   }
  }
 },
 "cells": [
  {
   "cell_type": "markdown",
   "source": [
    "[![Github](https://img.shields.io/github/stars/lab-ml/labml?style=social)](https://github.com/labmlai/labml)\n",
    "[![Open In Colab](https://colab.research.google.com/assets/colab-badge.svg)](https://colab.research.google.com/github/labmlai/labml/blob/master/guides/model_probe.ipynb)\n",
    "\n",
    "## Probing a model to extract attentions\n",
    "\n",
    "This is a short demo of [`ModelProbe` API](https://docs.labml.ai/api/analytics.html#labml.analytics.ModelProbe). You can wrap any PyTorch model with `ModelProbe` to extract parameters of the model, outputs and inputs of all layers as well as gradients.\n",
    "\n",
    "We use pre-trained `bert-base-uncased` model from [Huggingface transformers](https://github.com/huggingface/transformers) for this demo.\n",
    "\n",
    "*Note that Huggingface transformer model have an option to extract attentions by setting `output_attentions=True`. We will not use this in this demo to show the general case where such an option is not available, to extract sub-layer outputs.*"
   ],
   "metadata": {
    "id": "BIrHK1Qf3ZsK"
   }
  },
  {
   "cell_type": "code",
   "metadata": {
    "id": "zFo1IBx-x-rC"
   },
   "source": [
    "# Install transformers and labml\n",
    "%%capture\n",
    "!pip install transformers labml"
   ],
   "execution_count": 1,
   "outputs": []
  },
  {
   "cell_type": "code",
   "metadata": {
    "id": "nCKW2hAUyK_4"
   },
   "source": [
    "# Imports\n",
    "from transformers import BertTokenizer, BertModel\n",
    "from labml.logger import inspect\n",
    "import torch\n",
    "import torch.nn\n",
    "import numpy as np\n",
    "from labml.analytics import ModelProbe\n",
    "import math\n",
    "from matplotlib import pyplot as plt"
   ],
   "execution_count": 2,
   "outputs": []
  },
  {
   "cell_type": "code",
   "metadata": {
    "id": "M1M1TqT1ByQe",
    "outputId": "286cc35c-2de8-4fec-bd9a-3281910fbb90",
    "colab": {
     "base_uri": "https://localhost:8080/",
     "height": 249,
     "referenced_widgets": [
      "50cce09c41b8485599fae5d40e7a809e",
      "f1a2718429ef4e24a1ca3b9aa3ddc4fa",
      "8aa20e06879b4808976a06e7822a5d3c",
      "4a69c45ef27640eb9de5b841fb679516",
      "8c04063e0c0147e2ab7fa7947d22c570",
      "8999848b19b54ec6b25e5784d91875ab",
      "ac54203867d24407a126c6fe10689494",
      "5b0126ce327a45fdb64c29f7930cb3ce",
      "d3dfe6fcad6d46e19998c1ea24c34519",
      "96eecee6c69341658516f58dfc5baad3",
      "5fd437deaadc4922b7106d2adda3c6f5",
      "5b74f7f1100844f0b3b8c54579dec1b0",
      "b7e0bf594e7f471c9b0a269b9974b6f7",
      "d26fc7ca44c84fdd9b8581dba5bb3311",
      "ab18619b448445da8338463888c55f90",
      "cebf4ad97bef40aeb0504847b2cbc308",
      "196dd840bffb4da8abc5f614c4ec28fc",
      "7db135cc7ace464891ccc4b72e995ceb",
      "87ffab60a47e4383a85ca7343f7e5c11",
      "5492f98a609345f59710fe9fd3fc69e7",
      "03e36ee40457453dbfc747e093235e49",
      "10817345bc684cff90008b00e14ae1d2",
      "1aca761a75fc4f129212acf3d69089ed",
      "05861f740b0643d683a6a7ab7b03763e",
      "381121a33d7e4ff69aa3b2b139e767a8",
      "4b71a851c47b4b9a82c6db28d59eeb28",
      "81dbcc7f9ca04fbebbaadd2dda36d7ad",
      "00e90143cdc347fe94d6a7395e4e8048",
      "5dbadb07e2bc4e8589cf4d2e9e601a61",
      "c90382d338c249079a3981f9018bd9a5",
      "5867f3a3b9654bdca20eb5414d1ac53d",
      "48b830482b014741918bf90beab92066",
      "613015b389394880a901946e20fc5c32",
      "bf5c148be5aa4ce1a1a36d4d0f99c3d6",
      "f5584b298ab24a8a859d1f303b7c405d",
      "a9c1d7b2c23c40a7875bbe046ca3cf18",
      "b5285e51285341e1be633460b5a636b6",
      "8a5216fb4e444ca6aa89ffe1e2025379",
      "f3cce982fe5a486b97e0f7042a8eb8cc",
      "96f7f517310843d6a9bc98c8b7080040",
      "91525fee95fe43b09acdfb1767d6dba0",
      "54afc941c6e14222b45f5fb6704eb2b7",
      "a3c5f4934ff34d349177d64a81dca1bc",
      "d933335880f84276bc40d5e822474ff3",
      "146cc14ca61f41d19ba58ae2db25725b",
      "2035ee1350094d7eb3bce0a67f65a61c",
      "2725d210371a475fbffcacaadc16785d",
      "7d9a90d1557b4785ac90499c76f55eee",
      "b7808548b2294cb8bcc36b11f99fe307",
      "1483c0d587714f85a5fcca4419259304",
      "68290e5454af45fa9a7e219164cc6911",
      "6a99bc9da69543929c68d7ea022d52ae",
      "554c86f71335443aaeb40e7bd454f395",
      "f317c0bf4a1d4bdd83abed659895bee0",
      "e8b1a96e3a494fcda75753b77f269c1b"
     ]
    }
   },
   "source": [
    "# Load model and tokenizer\n",
    "model = BertModel.from_pretrained('bert-base-uncased')\n",
    "tokenizer = BertTokenizer.from_pretrained('bert-base-uncased', do_lower_case=True)"
   ],
   "execution_count": 3,
   "outputs": [
    {
     "output_type": "display_data",
     "data": {
      "application/vnd.jupyter.widget-view+json": {
       "model_id": "50cce09c41b8485599fae5d40e7a809e",
       "version_minor": 0,
       "version_major": 2
      },
      "text/plain": [
       "Downloading:   0%|          | 0.00/570 [00:00<?, ?B/s]"
      ]
     },
     "metadata": {}
    },
    {
     "output_type": "display_data",
     "data": {
      "application/vnd.jupyter.widget-view+json": {
       "model_id": "5b74f7f1100844f0b3b8c54579dec1b0",
       "version_minor": 0,
       "version_major": 2
      },
      "text/plain": [
       "Downloading:   0%|          | 0.00/420M [00:00<?, ?B/s]"
      ]
     },
     "metadata": {}
    },
    {
     "output_type": "stream",
     "name": "stderr",
     "text": [
      "Some weights of the model checkpoint at bert-base-uncased were not used when initializing BertModel: ['cls.predictions.decoder.weight', 'cls.predictions.transform.LayerNorm.weight', 'cls.seq_relationship.weight', 'cls.predictions.transform.dense.weight', 'cls.predictions.bias', 'cls.seq_relationship.bias', 'cls.predictions.transform.LayerNorm.bias', 'cls.predictions.transform.dense.bias']\n",
      "- This IS expected if you are initializing BertModel from the checkpoint of a model trained on another task or with another architecture (e.g. initializing a BertForSequenceClassification model from a BertForPreTraining model).\n",
      "- This IS NOT expected if you are initializing BertModel from the checkpoint of a model that you expect to be exactly identical (initializing a BertForSequenceClassification model from a BertForSequenceClassification model).\n"
     ]
    },
    {
     "output_type": "display_data",
     "data": {
      "application/vnd.jupyter.widget-view+json": {
       "model_id": "1aca761a75fc4f129212acf3d69089ed",
       "version_minor": 0,
       "version_major": 2
      },
      "text/plain": [
       "Downloading:   0%|          | 0.00/226k [00:00<?, ?B/s]"
      ]
     },
     "metadata": {}
    },
    {
     "output_type": "display_data",
     "data": {
      "application/vnd.jupyter.widget-view+json": {
       "model_id": "bf5c148be5aa4ce1a1a36d4d0f99c3d6",
       "version_minor": 0,
       "version_major": 2
      },
      "text/plain": [
       "Downloading:   0%|          | 0.00/28.0 [00:00<?, ?B/s]"
      ]
     },
     "metadata": {}
    },
    {
     "output_type": "display_data",
     "data": {
      "application/vnd.jupyter.widget-view+json": {
       "model_id": "146cc14ca61f41d19ba58ae2db25725b",
       "version_minor": 0,
       "version_major": 2
      },
      "text/plain": [
       "Downloading:   0%|          | 0.00/455k [00:00<?, ?B/s]"
      ]
     },
     "metadata": {}
    }
   ]
  },
  {
   "cell_type": "code",
   "source": [
    "# Tokenize the input text\n",
    "inputs = tokenizer.encode(\"Let's see how attention works.\")\n",
    "tokens = tokenizer.convert_ids_to_tokens(inputs)\n",
    "inspect(tokens)"
   ],
   "metadata": {
    "colab": {
     "base_uri": "https://localhost:8080/",
     "height": 208
    },
    "id": "7nJU3q9Cvtm6",
    "outputId": "4dc0ef03-d440-4ca5-a4d8-5985e19212b4"
   },
   "execution_count": 4,
   "outputs": [
    {
     "output_type": "display_data",
     "data": {
      "text/html": [
       "<pre style=\"overflow-x: scroll;\"><span style=\"color: #60C6C8\">0: </span><span style=\"color: #C5C1B4\">\"</span><strong>[CLS]</strong><span style=\"color: #C5C1B4\">\"</span>\n",
       "<span style=\"color: #60C6C8\">1: </span><span style=\"color: #C5C1B4\">\"</span><strong>let</strong><span style=\"color: #C5C1B4\">\"</span>\n",
       "<span style=\"color: #60C6C8\">2: </span><span style=\"color: #C5C1B4\">\"</span><strong>'</strong><span style=\"color: #C5C1B4\">\"</span>\n",
       "<span style=\"color: #60C6C8\">3: </span><span style=\"color: #C5C1B4\">\"</span><strong>s</strong><span style=\"color: #C5C1B4\">\"</span>\n",
       "<span style=\"color: #60C6C8\">4: </span><span style=\"color: #C5C1B4\">\"</span><strong>see</strong><span style=\"color: #C5C1B4\">\"</span>\n",
       "<span style=\"color: #60C6C8\">5: </span><span style=\"color: #C5C1B4\">\"</span><strong>how</strong><span style=\"color: #C5C1B4\">\"</span>\n",
       "<span style=\"color: #60C6C8\">6: </span><span style=\"color: #C5C1B4\">\"</span><strong>attention</strong><span style=\"color: #C5C1B4\">\"</span>\n",
       "<span style=\"color: #60C6C8\">7: </span><span style=\"color: #C5C1B4\">\"</span><strong>works</strong><span style=\"color: #C5C1B4\">\"</span>\n",
       "<span style=\"color: #60C6C8\">8: </span><span style=\"color: #C5C1B4\">\"</span><strong>.</strong><span style=\"color: #C5C1B4\">\"</span>\n",
       "<span style=\"color: #60C6C8\">9: </span><span style=\"color: #C5C1B4\">\"</span><strong>[SEP]</strong><span style=\"color: #C5C1B4\">\"</span>\n",
       "Total <span style=\"color: #208FFB\">10</span> item(s)</pre>"
      ],
      "text/plain": [
       "<IPython.core.display.HTML object>"
      ]
     },
     "metadata": {}
    }
   ]
  },
  {
   "cell_type": "code",
   "source": [
    "# Wrap the model\n",
    "probe = ModelProbe(model)"
   ],
   "metadata": {
    "id": "SdMoXxBlxoeo"
   },
   "execution_count": 5,
   "outputs": []
  },
  {
   "cell_type": "markdown",
   "source": [
    "#### Extract parameters\n",
    "\n",
    "You can extract parameters from `probe.parameters`. You can filter parameters with any wildcard string.\n",
    "\n",
    "Similar to layer inputs/outputs shown below you can get the parameter values with `get_list` or `get_dict` functions."
   ],
   "metadata": {
    "id": "v0_ddRTi5MkL"
   }
  },
  {
   "cell_type": "code",
   "source": [
    "inspect(probe.parameters['*attention*'])"
   ],
   "metadata": {
    "colab": {
     "base_uri": "https://localhost:8080/",
     "height": 225
    },
    "id": "8KyKJcA8a0Mv",
    "outputId": "003979e3-c0a9-4977-f326-d005dc7329ce"
   },
   "execution_count": 6,
   "outputs": [
    {
     "output_type": "display_data",
     "data": {
      "text/html": [
       "<pre style=\"overflow-x: scroll;\"><span style=\"color: #60C6C8\">  0: </span><span style=\"color: #C5C1B4\">\"</span><strong>encoder.layer.0.attention.output.LayerNorm.bias</strong><span style=\"color: #C5C1B4\">\"</span>\n",
       "<span style=\"color: #60C6C8\">  1: </span><span style=\"color: #C5C1B4\">\"</span><strong>encoder.layer.0.attention.output.LayerNorm.weight</strong><span style=\"color: #C5C1B4\">\"</span>\n",
       "<span style=\"color: #60C6C8\">  2: </span><span style=\"color: #C5C1B4\">\"</span><strong>encoder.layer.0.attention.output.dense.bias</strong><span style=\"color: #C5C1B4\">\"</span>\n",
       "<span style=\"color: #60C6C8\">  3: </span><span style=\"color: #C5C1B4\">\"</span><strong>encoder.layer.0.attention.output.dense.weight</strong><span style=\"color: #C5C1B4\">\"</span>\n",
       "<span style=\"color: #60C6C8\">  4: </span><span style=\"color: #C5C1B4\">\"</span><strong>encoder.layer.0.attention.self.key.bias</strong><span style=\"color: #C5C1B4\">\"</span>\n",
       "<span style=\"color: #60C6C8\">  5: </span><span style=\"color: #C5C1B4\">\"</span><strong>encoder.layer.0.attention.self.key.weight</strong><span style=\"color: #C5C1B4\">\"</span>\n",
       "<span style=\"color: #60C6C8\">  6: </span><span style=\"color: #C5C1B4\">\"</span><strong>encoder.layer.0.attention.self.query.bias</strong><span style=\"color: #C5C1B4\">\"</span>\n",
       "<span style=\"color: #60C6C8\">  7: </span><span style=\"color: #C5C1B4\">\"</span><strong>encoder.layer.0.attention.self.query.weight</strong><span style=\"color: #C5C1B4\">\"</span>\n",
       "<span style=\"color: #60C6C8\">  8: </span><span style=\"color: #C5C1B4\">\"</span><strong>encoder.layer.0.attention.self.value.bias</strong><span style=\"color: #C5C1B4\">\"</span>\n",
       "<span style=\"color: #60C6C8\">  9: </span><span style=\"color: #C5C1B4\">\"</span><strong>encoder.layer.0.attention.self.value.weight</strong><span style=\"color: #C5C1B4\">\"</span>\n",
       "<span style=\"color: #208FFB\">...</span>\n",
       "Total <span style=\"color: #208FFB\">120</span> item(s)</pre>"
      ],
      "text/plain": [
       "<IPython.core.display.HTML object>"
      ]
     },
     "metadata": {}
    }
   ]
  },
  {
   "cell_type": "code",
   "source": [
    "# Evaluate the model\n",
    "res = model(torch.tensor([inputs]))\n",
    "inspect(res)"
   ],
   "metadata": {
    "colab": {
     "base_uri": "https://localhost:8080/",
     "height": 69
    },
    "id": "Z_jAbcTiNPHa",
    "outputId": "35433e59-45e6-4279-d635-0c75a7e0ce5b"
   },
   "execution_count": 8,
   "outputs": [
    {
     "output_type": "display_data",
     "data": {
      "text/html": [
       "<pre style=\"overflow-x: scroll;\"><span style=\"color: #60C6C8\">last_hidden_state: </span><strong></strong><span style=\"color: #C5C1B4\">[</span><strong></strong><strong></strong><span style=\"color: #C5C1B4\">[</span><strong></strong><strong></strong><span style=\"color: #C5C1B4\">[</span><strong>0.086195</strong><strong>, </strong><strong>-0.164369</strong><strong>, </strong><strong>0.113413</strong><strong>, </strong><span style=\"color: #C5C1B4\">...</span><strong>, </strong><strong>0.498378</strong><strong></strong><span style=\"color: #C5C1B4\">]</span><strong>, </strong><strong></strong><strong></strong><span style=\"color: #C5C1B4\">[</span><strong> 1.08365</strong><strong>, </strong><strong>0.174316</strong><strong>, </strong><strong>-0.325918</strong><strong>, </strong><span style=\"color: #C5C1B4\">...</span><strong>, </strong><strong>-0.236965</strong><span style=\"color: #DDB62B\"> ... </span>\n",
       "<span style=\"color: #60C6C8\">    pooler_output: </span><strong></strong><span style=\"color: #C5C1B4\">[</span><strong></strong><strong></strong><span style=\"color: #C5C1B4\">[</span><strong>-0.943071</strong><strong>, </strong><strong>-0.530344</strong><strong>, </strong><strong>-0.966346</strong><strong>, </strong><span style=\"color: #C5C1B4\">...</span><strong>, </strong><strong>0.932565</strong><strong></strong><span style=\"color: #C5C1B4\">]</span><strong></strong><strong></strong><span style=\"color: #C5C1B4\">]</span>\n",
       "Total <span style=\"color: #208FFB\">2</span> item(s)</pre>"
      ],
      "text/plain": [
       "<IPython.core.display.HTML object>"
      ]
     },
     "metadata": {}
    }
   ]
  },
  {
   "cell_type": "markdown",
   "source": [
    "#### Extract layer inputs/outputs\n",
    "\n",
    "You can extract layer inputs with `foward_input` or layer outputs with `forward_output`. Just like parameters you can filter the layers with a wildcard string.\n",
    "\n",
    "The function `deep` will expand the input and output values further if they are tuples, lists or dictionaries so that we can quickly filter those deep structures. This is useful in layer inputs since all of them are tuples."
   ],
   "metadata": {
    "id": "MHiVmj_L5tu9"
   }
  },
  {
   "cell_type": "code",
   "source": [
    "inspect(probe.forward_input['*attention*'].deep())"
   ],
   "metadata": {
    "colab": {
     "base_uri": "https://localhost:8080/",
     "height": 225
    },
    "id": "T4MajA3Lx42p",
    "outputId": "1192e16f-1f35-4a70-fea7-94995f232de0"
   },
   "execution_count": 9,
   "outputs": [
    {
     "output_type": "display_data",
     "data": {
      "text/html": [
       "<pre style=\"overflow-x: scroll;\"><span style=\"color: #60C6C8\">  0: </span><span style=\"color: #C5C1B4\">\"</span><strong>encoder.layer.0.attention.output.LayerNorm/0</strong><span style=\"color: #C5C1B4\">\"</span>\n",
       "<span style=\"color: #60C6C8\">  1: </span><span style=\"color: #C5C1B4\">\"</span><strong>encoder.layer.0.attention.output.dense/0</strong><span style=\"color: #C5C1B4\">\"</span>\n",
       "<span style=\"color: #60C6C8\">  2: </span><span style=\"color: #C5C1B4\">\"</span><strong>encoder.layer.0.attention.output.dropout/0</strong><span style=\"color: #C5C1B4\">\"</span>\n",
       "<span style=\"color: #60C6C8\">  3: </span><span style=\"color: #C5C1B4\">\"</span><strong>encoder.layer.0.attention.output/0</strong><span style=\"color: #C5C1B4\">\"</span>\n",
       "<span style=\"color: #60C6C8\">  4: </span><span style=\"color: #C5C1B4\">\"</span><strong>encoder.layer.0.attention.output/1</strong><span style=\"color: #C5C1B4\">\"</span>\n",
       "<span style=\"color: #60C6C8\">  5: </span><span style=\"color: #C5C1B4\">\"</span><strong>encoder.layer.0.attention.self.dropout/0</strong><span style=\"color: #C5C1B4\">\"</span>\n",
       "<span style=\"color: #60C6C8\">  6: </span><span style=\"color: #C5C1B4\">\"</span><strong>encoder.layer.0.attention.self.key/0</strong><span style=\"color: #C5C1B4\">\"</span>\n",
       "<span style=\"color: #60C6C8\">  7: </span><span style=\"color: #C5C1B4\">\"</span><strong>encoder.layer.0.attention.self.query/0</strong><span style=\"color: #C5C1B4\">\"</span>\n",
       "<span style=\"color: #60C6C8\">  8: </span><span style=\"color: #C5C1B4\">\"</span><strong>encoder.layer.0.attention.self.value/0</strong><span style=\"color: #C5C1B4\">\"</span>\n",
       "<span style=\"color: #60C6C8\">  9: </span><span style=\"color: #C5C1B4\">\"</span><strong>encoder.layer.0.attention.self/0</strong><span style=\"color: #C5C1B4\">\"</span>\n",
       "<span style=\"color: #208FFB\">...</span>\n",
       "Total <span style=\"color: #208FFB\">228</span> item(s)</pre>"
      ],
      "text/plain": [
       "<IPython.core.display.HTML object>"
      ]
     },
     "metadata": {}
    }
   ]
  },
  {
   "cell_type": "markdown",
   "source": [
    "The attention matrix of each layer is given as input to the dropout layer.\n",
    "\n",
    "Here's the [huggingface/transformers model implementation that does it](https://github.com/huggingface/transformers/blob/master/src/transformers/models/bert/modeling_bert.py#L334).\n",
    "\n",
    "So we will filter the inputs to the dropout and capture the attentions."
   ],
   "metadata": {
    "id": "ET06lXuB6Lee"
   }
  },
  {
   "cell_type": "code",
   "source": [
    "attn_dropout_inputs = probe.forward_input.deep()['*.attention.self.dropout/0']\n",
    "inspect(attn_dropout_inputs)"
   ],
   "metadata": {
    "colab": {
     "base_uri": "https://localhost:8080/",
     "height": 243
    },
    "id": "N6wtzEjEx9zS",
    "outputId": "9ff93f03-011d-43f0-d360-4aebd3b5924d"
   },
   "execution_count": 10,
   "outputs": [
    {
     "output_type": "display_data",
     "data": {
      "text/html": [
       "<pre style=\"overflow-x: scroll;\"><span style=\"color: #60C6C8\"> 0: </span><span style=\"color: #C5C1B4\">\"</span><strong>encoder.layer.0.attention.self.dropout/0</strong><span style=\"color: #C5C1B4\">\"</span>\n",
       "<span style=\"color: #60C6C8\"> 1: </span><span style=\"color: #C5C1B4\">\"</span><strong>encoder.layer.1.attention.self.dropout/0</strong><span style=\"color: #C5C1B4\">\"</span>\n",
       "<span style=\"color: #60C6C8\"> 2: </span><span style=\"color: #C5C1B4\">\"</span><strong>encoder.layer.2.attention.self.dropout/0</strong><span style=\"color: #C5C1B4\">\"</span>\n",
       "<span style=\"color: #60C6C8\"> 3: </span><span style=\"color: #C5C1B4\">\"</span><strong>encoder.layer.3.attention.self.dropout/0</strong><span style=\"color: #C5C1B4\">\"</span>\n",
       "<span style=\"color: #60C6C8\"> 4: </span><span style=\"color: #C5C1B4\">\"</span><strong>encoder.layer.4.attention.self.dropout/0</strong><span style=\"color: #C5C1B4\">\"</span>\n",
       "<span style=\"color: #60C6C8\"> 5: </span><span style=\"color: #C5C1B4\">\"</span><strong>encoder.layer.5.attention.self.dropout/0</strong><span style=\"color: #C5C1B4\">\"</span>\n",
       "<span style=\"color: #60C6C8\"> 6: </span><span style=\"color: #C5C1B4\">\"</span><strong>encoder.layer.6.attention.self.dropout/0</strong><span style=\"color: #C5C1B4\">\"</span>\n",
       "<span style=\"color: #60C6C8\"> 7: </span><span style=\"color: #C5C1B4\">\"</span><strong>encoder.layer.7.attention.self.dropout/0</strong><span style=\"color: #C5C1B4\">\"</span>\n",
       "<span style=\"color: #60C6C8\"> 8: </span><span style=\"color: #C5C1B4\">\"</span><strong>encoder.layer.8.attention.self.dropout/0</strong><span style=\"color: #C5C1B4\">\"</span>\n",
       "<span style=\"color: #60C6C8\"> 9: </span><span style=\"color: #C5C1B4\">\"</span><strong>encoder.layer.9.attention.self.dropout/0</strong><span style=\"color: #C5C1B4\">\"</span>\n",
       "<span style=\"color: #60C6C8\">10: </span><span style=\"color: #C5C1B4\">\"</span><strong>encoder.layer.10.attention.self.dropout/0</strong><span style=\"color: #C5C1B4\">\"</span>\n",
       "<span style=\"color: #60C6C8\">11: </span><span style=\"color: #C5C1B4\">\"</span><strong>encoder.layer.11.attention.self.dropout/0</strong><span style=\"color: #C5C1B4\">\"</span>\n",
       "Total <span style=\"color: #208FFB\">12</span> item(s)</pre>"
      ],
      "text/plain": [
       "<IPython.core.display.HTML object>"
      ]
     },
     "metadata": {}
    }
   ]
  },
  {
   "cell_type": "markdown",
   "source": [
    "`get_list` returns the filtered objects as a list. Lets examine the attention matrix of the first layer.\n",
    "\n",
    "The shape `[1, 12, 10, 10]` is for batch, head, sequence length, and sequence length."
   ],
   "metadata": {
    "id": "YXPu9yYX670N"
   }
  },
  {
   "cell_type": "code",
   "source": [
    "inspect(attn_dropout_inputs.get_list()[0])"
   ],
   "metadata": {
    "colab": {
     "base_uri": "https://localhost:8080/",
     "height": 225
    },
    "id": "ScasPFT1yzrC",
    "outputId": "3a352757-ce19-48ac-ed06-d2db6dd2b481"
   },
   "execution_count": 11,
   "outputs": [
    {
     "output_type": "display_data",
     "data": {
      "text/html": [
       "<pre style=\"overflow-x: scroll;\"><span style=\"color: #C5C1B4\">dtype: </span><span style=\"color: #208FFB\">torch.float32</span>\n",
       "<span style=\"color: #C5C1B4\">shape: </span><strong>[1, 12, 10, 10]</strong>\n",
       "<span style=\"color: #C5C1B4\">min: </span><span style=\"color: #208FFB\">0.000000</span> <span style=\"color: #C5C1B4\">max: </span><span style=\"color: #208FFB\">0.955328</span> <span style=\"color: #C5C1B4\">mean: </span><span style=\"color: #208FFB\">0.100000</span> <span style=\"color: #C5C1B4\">std: </span><span style=\"color: #208FFB\">0.135882</span>\n",
       "<strong></strong><span style=\"color: #C5C1B4\">[</span><strong></strong>\n",
       "<strong></strong><strong> </strong><span style=\"color: #C5C1B4\">[</span><strong></strong>\n",
       "<strong></strong><strong>  </strong><span style=\"color: #C5C1B4\">[</span><strong></strong><strong></strong><span style=\"color: #C5C1B4\">[</span><strong>0.069939</strong><strong>, </strong><strong>0.061009</strong><strong>, </strong><strong>0.045461</strong><strong>, </strong><span style=\"color: #C5C1B4\">...</span><strong>, </strong><strong>0.355739</strong><strong></strong><span style=\"color: #C5C1B4\">]</span><strong>, </strong><strong></strong><strong></strong><span style=\"color: #C5C1B4\">[</span><strong>0.111168</strong><strong>, </strong><strong>0.017045</strong><strong>, </strong><strong>0.125317</strong><strong>, </strong><span style=\"color: #C5C1B4\">...</span><strong>, </strong><strong>0.229843</strong><strong></strong><span style=\"color: #C5C1B4\">]</span><strong>, </strong><strong></strong><strong></strong><span style=\"color: #C5C1B4\">[</span><strong>0.109549</strong><strong>, </strong><strong>0.074878</strong><strong>, </strong><strong>0.048191</strong><strong>, </strong><span style=\"color: #C5C1B4\">...</span><strong>, </strong><strong>0.170362</strong><strong></strong><span style=\"color: #C5C1B4\">]</span><strong>, </strong><strong></strong><strong></strong><span style=\"color: #C5C1B4\">...</span><strong>, </strong><strong></strong><strong></strong><span style=\"color: #C5C1B4\">[</span><strong>0.108025</strong><strong>, </strong><strong>0.057910</strong><strong>, </strong><strong>0.071353</strong><strong>, </strong><span style=\"color: #C5C1B4\">...</span><strong>, </strong><strong>0.212221</strong><strong></strong><span style=\"color: #C5C1B4\">]</span><strong></strong><strong></strong><span style=\"color: #C5C1B4\">]</span><strong>, </strong><strong></strong>\n",
       "<strong></strong><strong>  </strong><span style=\"color: #C5C1B4\">[</span><strong></strong><strong></strong><span style=\"color: #C5C1B4\">[</span><strong>0.681698</strong><strong>, </strong><strong>0.009846</strong><strong>, </strong><strong>0.220827</strong><strong>, </strong><span style=\"color: #C5C1B4\">...</span><strong>, </strong><strong>0.007284</strong><strong></strong><span style=\"color: #C5C1B4\">]</span><strong>, </strong><strong></strong><strong></strong><span style=\"color: #C5C1B4\">[</span><strong>0.006145</strong><strong>, </strong><strong>0.022938</strong><strong>, </strong><strong>0.053798</strong><strong>, </strong><span style=\"color: #C5C1B4\">...</span><strong>, </strong><strong>0.059596</strong><strong></strong><span style=\"color: #C5C1B4\">]</span><strong>, </strong><strong></strong><strong></strong><span style=\"color: #C5C1B4\">[</span><strong>0.021445</strong><strong>, </strong><strong>0.152550</strong><strong>, </strong><strong>0.013462</strong><strong>, </strong><span style=\"color: #C5C1B4\">...</span><strong>, </strong><strong>0.038106</strong><strong></strong><span style=\"color: #C5C1B4\">]</span><strong>, </strong><strong></strong><strong></strong><span style=\"color: #C5C1B4\">...</span><strong>, </strong><strong></strong><strong></strong><span style=\"color: #C5C1B4\">[</span><strong>0.038535</strong><strong>, </strong><strong>0.070309</strong><strong>, </strong><strong>0.136805</strong><strong>, </strong><span style=\"color: #C5C1B4\">...</span><strong>, </strong><strong>0.037539</strong><strong></strong><span style=\"color: #C5C1B4\">]</span><strong></strong><strong></strong><span style=\"color: #C5C1B4\">]</span><strong>, </strong><strong></strong>\n",
       "<strong></strong><strong>  </strong><span style=\"color: #C5C1B4\">[</span><strong></strong><strong></strong><span style=\"color: #C5C1B4\">[</span><strong>0.788826</strong><strong>, </strong><strong>0.018353</strong><strong>, </strong><strong>0.038353</strong><strong>, </strong><span style=\"color: #C5C1B4\">...</span><strong>, </strong><strong>0.051533</strong><strong></strong><span style=\"color: #C5C1B4\">]</span><strong>, </strong><strong></strong><strong></strong><span style=\"color: #C5C1B4\">[</span><strong>0.897130</strong><strong>, </strong><strong>0.006136</strong><strong>, </strong><strong>0.028195</strong><strong>, </strong><span style=\"color: #C5C1B4\">...</span><strong>, </strong><strong>0.018847</strong><strong></strong><span style=\"color: #C5C1B4\">]</span><strong>, </strong><strong></strong><strong></strong><span style=\"color: #C5C1B4\">[</span><strong>0.046183</strong><strong>, </strong><strong>0.796113</strong><strong>, </strong><strong>0.046187</strong><strong>, </strong><span style=\"color: #C5C1B4\">...</span><strong>, </strong><strong>0.013332</strong><strong></strong><span style=\"color: #C5C1B4\">]</span><strong>, </strong><strong></strong><strong></strong><span style=\"color: #C5C1B4\">...</span><strong>, </strong><strong></strong><strong></strong><span style=\"color: #C5C1B4\">[</span><strong>0.262410</strong><strong>, </strong><strong>0.000171</strong><strong>, </strong><strong>0.005228</strong><strong>, </strong><span style=\"color: #C5C1B4\">...</span><strong>, </strong><strong>0.111346</strong><strong></strong><span style=\"color: #C5C1B4\">]</span><strong></strong><strong></strong><span style=\"color: #C5C1B4\">]</span><strong>, </strong><strong></strong>\n",
       "<strong></strong><strong>  </strong><span style=\"color: #C5C1B4\">...</span><strong>, </strong><strong></strong>\n",
       "<strong></strong><strong>  </strong><span style=\"color: #C5C1B4\">[</span><strong></strong><strong></strong><span style=\"color: #C5C1B4\">[</span><strong>0.917271</strong><strong>, </strong><strong>0.007437</strong><strong>, </strong><strong>0.003293</strong><strong>, </strong><span style=\"color: #C5C1B4\">...</span><strong>, </strong><strong>0.031381</strong><strong></strong><span style=\"color: #C5C1B4\">]</span><strong>, </strong><strong></strong><strong></strong><span style=\"color: #C5C1B4\">[</span><strong>0.416945</strong><strong>, </strong><strong>0.010870</strong><strong>, </strong><strong>0.076254</strong><strong>, </strong><span style=\"color: #C5C1B4\">...</span><strong>, </strong><strong>0.065888</strong><strong></strong><span style=\"color: #C5C1B4\">]</span><strong>, </strong><strong></strong><strong></strong><span style=\"color: #C5C1B4\">[</span><strong>0.314300</strong><strong>, </strong><strong>0.067904</strong><strong>, </strong><strong>0.044424</strong><strong>, </strong><span style=\"color: #C5C1B4\">...</span><strong>, </strong><strong>0.092102</strong><strong></strong><span style=\"color: #C5C1B4\">]</span><strong>, </strong><strong></strong><strong></strong><span style=\"color: #C5C1B4\">...</span><strong>, </strong><strong></strong><strong></strong><span style=\"color: #C5C1B4\">[</span><strong>0.691346</strong><strong>, </strong><strong>0.008385</strong><strong>, </strong><strong>0.018207</strong><strong>, </strong><span style=\"color: #C5C1B4\">...</span><strong>, </strong><strong>0.160913</strong><strong></strong><span style=\"color: #C5C1B4\">]</span><strong></strong><strong></strong><span style=\"color: #C5C1B4\">]</span><strong></strong>\n",
       "<strong></strong><strong> </strong><span style=\"color: #C5C1B4\">]</span><strong></strong>\n",
       "<strong></strong><strong></strong><span style=\"color: #C5C1B4\">]</span></pre>"
      ],
      "text/plain": [
       "<IPython.core.display.HTML object>"
      ]
     },
     "metadata": {}
    }
   ]
  },
  {
   "cell_type": "markdown",
   "source": [
    "We will get attention matrices for each layer and stack them\n"
   ],
   "metadata": {
    "id": "9nygJ1SM7aZC"
   }
  },
  {
   "cell_type": "code",
   "source": [
    "# Remove the batch dimension and detach the attention matrices \n",
    "attn = [a[0].detach() for a in attn_dropout_inputs.get_list()]\n",
    "# Stack them\n",
    "attn = torch.stack(attn)\n",
    "inspect(attn)"
   ],
   "metadata": {
    "id": "6vVIYIUwuP0y",
    "colab": {
     "base_uri": "https://localhost:8080/",
     "height": 260
    },
    "outputId": "3a636403-3cde-4bb0-cf72-27e5c7221e90"
   },
   "execution_count": 12,
   "outputs": [
    {
     "output_type": "display_data",
     "data": {
      "text/html": [
       "<pre style=\"overflow-x: scroll;\"><span style=\"color: #C5C1B4\">dtype: </span><span style=\"color: #208FFB\">torch.float32</span>\n",
       "<span style=\"color: #C5C1B4\">shape: </span><strong>[12, 12, 10, 10]</strong>\n",
       "<span style=\"color: #C5C1B4\">min: </span><span style=\"color: #208FFB\">0.000000</span> <span style=\"color: #C5C1B4\">max: </span><span style=\"color: #208FFB\">0.999992</span> <span style=\"color: #C5C1B4\">mean: </span><span style=\"color: #208FFB\">0.100000</span> <span style=\"color: #C5C1B4\">std: </span><span style=\"color: #208FFB\">0.189594</span>\n",
       "<strong></strong><span style=\"color: #C5C1B4\">[</span><strong></strong>\n",
       "<strong></strong><strong> </strong><span style=\"color: #C5C1B4\">[</span><strong></strong>\n",
       "<strong></strong><strong>  </strong><span style=\"color: #C5C1B4\">[</span><strong></strong><strong></strong><span style=\"color: #C5C1B4\">[</span><strong>0.069939</strong><strong>, </strong><strong>0.061009</strong><strong>, </strong><strong>0.045461</strong><strong>, </strong><span style=\"color: #C5C1B4\">...</span><strong>, </strong><strong>0.355739</strong><strong></strong><span style=\"color: #C5C1B4\">]</span><strong>, </strong><strong></strong><strong></strong><span style=\"color: #C5C1B4\">[</span><strong>0.111168</strong><strong>, </strong><strong>0.017045</strong><strong>, </strong><strong>0.125317</strong><strong>, </strong><span style=\"color: #C5C1B4\">...</span><strong>, </strong><strong>0.229843</strong><strong></strong><span style=\"color: #C5C1B4\">]</span><strong>, </strong><strong></strong><strong></strong><span style=\"color: #C5C1B4\">[</span><strong>0.109549</strong><strong>, </strong><strong>0.074878</strong><strong>, </strong><strong>0.048191</strong><strong>, </strong><span style=\"color: #C5C1B4\">...</span><strong>, </strong><strong>0.170362</strong><strong></strong><span style=\"color: #C5C1B4\">]</span><strong>, </strong><strong></strong><strong></strong><span style=\"color: #C5C1B4\">...</span><strong>, </strong><strong></strong><strong></strong><span style=\"color: #C5C1B4\">[</span><strong>0.108025</strong><strong>, </strong><strong>0.057910</strong><strong>, </strong><strong>0.071353</strong><strong>, </strong><span style=\"color: #C5C1B4\">...</span><strong>, </strong><strong>0.212221</strong><strong></strong><span style=\"color: #C5C1B4\">]</span><strong></strong><strong></strong><span style=\"color: #C5C1B4\">]</span><strong>, </strong><strong></strong>\n",
       "<strong></strong><strong>  </strong><span style=\"color: #C5C1B4\">[</span><strong></strong><strong></strong><span style=\"color: #C5C1B4\">[</span><strong>0.681698</strong><strong>, </strong><strong>0.009846</strong><strong>, </strong><strong>0.220827</strong><strong>, </strong><span style=\"color: #C5C1B4\">...</span><strong>, </strong><strong>0.007284</strong><strong></strong><span style=\"color: #C5C1B4\">]</span><strong>, </strong><strong></strong><strong></strong><span style=\"color: #C5C1B4\">[</span><strong>0.006145</strong><strong>, </strong><strong>0.022938</strong><strong>, </strong><strong>0.053798</strong><strong>, </strong><span style=\"color: #C5C1B4\">...</span><strong>, </strong><strong>0.059596</strong><strong></strong><span style=\"color: #C5C1B4\">]</span><strong>, </strong><strong></strong><strong></strong><span style=\"color: #C5C1B4\">[</span><strong>0.021445</strong><strong>, </strong><strong>0.152550</strong><strong>, </strong><strong>0.013462</strong><strong>, </strong><span style=\"color: #C5C1B4\">...</span><strong>, </strong><strong>0.038106</strong><strong></strong><span style=\"color: #C5C1B4\">]</span><strong>, </strong><strong></strong><strong></strong><span style=\"color: #C5C1B4\">...</span><strong>, </strong><strong></strong><strong></strong><span style=\"color: #C5C1B4\">[</span><strong>0.038535</strong><strong>, </strong><strong>0.070309</strong><strong>, </strong><strong>0.136805</strong><strong>, </strong><span style=\"color: #C5C1B4\">...</span><strong>, </strong><strong>0.037539</strong><strong></strong><span style=\"color: #C5C1B4\">]</span><strong></strong><strong></strong><span style=\"color: #C5C1B4\">]</span><strong>, </strong><strong></strong>\n",
       "<strong></strong><strong>  </strong><span style=\"color: #C5C1B4\">[</span><strong></strong><strong></strong><span style=\"color: #C5C1B4\">[</span><strong>0.788826</strong><strong>, </strong><strong>0.018353</strong><strong>, </strong><strong>0.038353</strong><strong>, </strong><span style=\"color: #C5C1B4\">...</span><strong>, </strong><strong>0.051533</strong><strong></strong><span style=\"color: #C5C1B4\">]</span><strong>, </strong><strong></strong><strong></strong><span style=\"color: #C5C1B4\">[</span><strong>0.897130</strong><strong>, </strong><strong>0.006136</strong><strong>, </strong><strong>0.028195</strong><strong>, </strong><span style=\"color: #C5C1B4\">...</span><strong>, </strong><strong>0.018847</strong><strong></strong><span style=\"color: #C5C1B4\">]</span><strong>, </strong><strong></strong><strong></strong><span style=\"color: #C5C1B4\">[</span><strong>0.046183</strong><strong>, </strong><strong>0.796113</strong><strong>, </strong><strong>0.046187</strong><strong>, </strong><span style=\"color: #C5C1B4\">...</span><strong>, </strong><strong>0.013332</strong><strong></strong><span style=\"color: #C5C1B4\">]</span><strong>, </strong><strong></strong><strong></strong><span style=\"color: #C5C1B4\">...</span><strong>, </strong><strong></strong><strong></strong><span style=\"color: #C5C1B4\">[</span><strong>0.262410</strong><strong>, </strong><strong>0.000171</strong><strong>, </strong><strong>0.005228</strong><strong>, </strong><span style=\"color: #C5C1B4\">...</span><strong>, </strong><strong>0.111346</strong><strong></strong><span style=\"color: #C5C1B4\">]</span><strong></strong><strong></strong><span style=\"color: #C5C1B4\">]</span><strong>, </strong><strong></strong>\n",
       "<strong></strong><strong>  </strong><span style=\"color: #C5C1B4\">...</span><strong>, </strong><strong></strong>\n",
       "<strong></strong><strong>  </strong><span style=\"color: #C5C1B4\">[</span><strong></strong><strong></strong><span style=\"color: #C5C1B4\">[</span><strong>0.917271</strong><strong>, </strong><strong>0.007437</strong><strong>, </strong><strong>0.003293</strong><strong>, </strong><span style=\"color: #C5C1B4\">...</span><strong>, </strong><strong>0.031381</strong><strong></strong><span style=\"color: #C5C1B4\">]</span><strong>, </strong><strong></strong><strong></strong><span style=\"color: #C5C1B4\">[</span><strong>0.416945</strong><strong>, </strong><strong>0.010870</strong><strong>, </strong><strong>0.076254</strong><strong>, </strong><span style=\"color: #C5C1B4\">...</span><strong>, </strong><strong>0.065888</strong><strong></strong><span style=\"color: #C5C1B4\">]</span><strong>, </strong><strong></strong><strong></strong><span style=\"color: #C5C1B4\">[</span><strong>0.314300</strong><strong>, </strong><strong>0.067904</strong><strong>, </strong><strong>0.044424</strong><strong>, </strong><span style=\"color: #C5C1B4\">...</span><strong>, </strong><strong>0.092102</strong><strong></strong><span style=\"color: #C5C1B4\">]</span><strong>, </strong><strong></strong><strong></strong><span style=\"color: #C5C1B4\">...</span><strong>, </strong><strong></strong><strong></strong><span style=\"color: #C5C1B4\">[</span><strong>0.691346</strong><strong>, </strong><strong>0.008385</strong><strong>, </strong><strong>0.018207</strong><strong>, </strong><span style=\"color: #C5C1B4\">...</span><strong>, </strong><strong>0.160913</strong><strong></strong><span style=\"color: #C5C1B4\">]</span><strong></strong><strong></strong><span style=\"color: #C5C1B4\">]</span><strong></strong>\n",
       "<strong></strong><strong> </strong><span style=\"color: #C5C1B4\">]</span><strong>, </strong><strong></strong>\n",
       "<strong></strong><strong> </strong><span style=\"color: #C5C1B4\">[</span><strong></strong>\n",
       "<strong></strong><strong>  </strong><span style=\"color: #C5C1B4\">[</span><strong></strong><strong></strong><span style=\"color: #C5C1B4\">[</span><strong>0.209785</strong><strong>, </strong><strong>0.016167</strong><strong>, </strong><strong>0.051726</strong><strong>, </strong><span style=\"color: #C5C1B4\">...</span><strong>, </strong><strong>0.054598</strong><strong></strong><span style=\"color: #C5C1B4\">]</span><strong>, </strong><strong></strong><strong></strong><span style=\"color: #C5C1B4\">[</span><strong>0.495311</strong><strong>, </strong><strong>0.007625</strong><strong>, </strong><strong>0.023777</strong><strong>, </strong><span style=\"color: #C5C1B4\">...</span><strong>, </strong><strong>0.095160</strong><strong></strong><span style=\"color: #C5C1B4\">]</span><strong>, </strong><strong></strong><strong></strong><span style=\"color: #C5C1B4\">[</span><strong>0.486088</strong><strong>, </strong><strong>0.043997</strong><strong>, </strong><strong>0.036032</strong><strong>, </strong><span style=\"color: #C5C1B4\">...</span><strong>, </strong><strong>0.172976</strong><strong></strong><span style=\"color: #C5C1B4\">]</span><strong>, </strong><strong></strong><strong></strong><span style=\"color: #C5C1B4\">...</span><strong>, </strong><strong></strong><strong></strong><span style=\"color: #C5C1B4\">[</span><strong>0.420886</strong><strong>, </strong><strong>0.019279</strong><strong>, </strong><strong>0.059332</strong><strong>, </strong><span style=\"color: #C5C1B4\">...</span><strong>, </strong><strong>0.063814</strong><strong></strong><span style=\"color: #C5C1B4\">]</span><strong></strong><strong></strong><span style=\"color: #C5C1B4\">]</span><strong>, </strong><strong></strong>\n",
       "<strong></strong><strong>  </strong><span style=\"color: #C5C1B4\">[</span><strong></strong><strong></strong><span style=\"color: #C5C1B4\">[</span><strong>0.354584</strong><strong>, </strong><strong>0.070945</strong><strong>, </strong><strong>0.109714</strong><strong>, </strong><span style=\"color: #C5C1B4\">...</span><strong>, </strong><strong>0.095110</strong><strong></strong><span style=\"color: #C5C1B4\">]</span><strong>, </strong><strong></strong><strong></strong><span style=\"color: #C5C1B4\">[</span><strong>0.010774</strong><strong>, </strong><strong>0.004163</strong><strong>, </strong><strong>0.939148</strong><strong>, </strong><span style=\"color: #C5C1B4\">...</span><strong>, </strong><strong>0.000817</strong><strong></strong><span style=\"color: #C5C1B4\">]</span><strong>, </strong><strong></strong><strong></strong><span style=\"color: #C5C1B4\">[</span><strong>0.114967</strong><strong>, </strong><strong>0.001388</strong><strong>, </strong><strong>0.018187</strong><strong>, </strong><span style=\"color: #C5C1B4\">...</span><strong>, </strong><strong>0.003899</strong><span style=\"color: #DDB62B\"> ... </span></pre>"
      ],
      "text/plain": [
       "<IPython.core.display.HTML object>"
      ]
     },
     "metadata": {}
    }
   ]
  },
  {
   "cell_type": "markdown",
   "source": [
    "This is a simple visualization of attention matrices of some layers (first four) and some heads (first four)."
   ],
   "metadata": {
    "id": "QUlwkfcq7qJm"
   }
  },
  {
   "cell_type": "code",
   "source": [
    "# Plot 4 layers and 4 heads of each layer\n",
    "n_layers, n_heads = 4, 4\n",
    "# Create subplots\n",
    "fig, ax = plt.subplots(n_layers, n_heads, figsize=(n_heads * 4, n_layers * 4))\n",
    "for r in range(n_layers):\n",
    "    for c in range(n_heads):\n",
    "        # Plot the matrix\n",
    "        ax[r][c].imshow(attn[r][c], vmin=0)\n",
    "        ax[r][c].set_title(f\"L{r + 1} H{c + 1}\")\n",
    "plt.show()"
   ],
   "metadata": {
    "colab": {
     "base_uri": "https://localhost:8080/",
     "height": 934
    },
    "id": "CRFRYLWwuDi7",
    "outputId": "cf01e51e-071d-48f0-93b4-03b7f1a9e127"
   },
   "execution_count": 15,
   "outputs": [
    {
     "output_type": "display_data",
     "data": {
      "image/png": "[encoded data removed]",
      "text/plain": [
       "<Figure size 1152x1152 with 16 Axes>"
      ]
     },
     "metadata": {
      "needs_background": "light"
     }
    }
   ]
  },
  {
   "cell_type": "code",
   "source": [
    ""
   ],
   "metadata": {
    "id": "qLhmO0AP8Nda"
   },
   "execution_count": null,
   "outputs": []
  }
 ]
}