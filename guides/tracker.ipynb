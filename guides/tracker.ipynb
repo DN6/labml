{
 "cells": [
  {
   "cell_type": "markdown",
   "metadata": {},
   "source": [
    "# Tracker\n",
    "\n",
    "[![Github](https://img.shields.io/github/stars/lab-ml/labml?style=social)](https://github.com/lab-ml/labml)\n",
    "[![Open In Colab](https://colab.research.google.com/assets/colab-badge.svg)](https://colab.research.google.com/github/lab-ml/labml/blob/master/guides/tracker.ipynb)\n",
    "[![Docs](https://img.shields.io/badge/labml-docs-blue)](https://docs.labml.ai/api/tracker.html)\n",
    "\n",
    "\n",
    "Here you specify indicators and the logger stores them temporarily and write in batches.\n",
    "It can aggregate and write them as means or histograms."
   ]
  },
  {
   "cell_type": "code",
   "execution_count": null,
   "metadata": {},
   "outputs": [],
   "source": [
    "%%capture\n",
    "!pip install labml"
   ]
  },
  {
   "cell_type": "code",
   "execution_count": 1,
   "metadata": {},
   "outputs": [],
   "source": [
    "import time\n",
    "\n",
    "import numpy as np\n",
    "\n",
    "from labml import tracker\n",
    "\n",
    "# dummy train function\n",
    "def train():\n",
    "    return np.random.randint(100)\n",
    "\n",
    "# Reset global step because we incremented in previous loop\n",
    "tracker.set_global_step(0)"
   ]
  },
  {
   "cell_type": "markdown",
   "metadata": {},
   "source": [
    "This stores all the loss values and writes the logs the mean on every tenth iteration.\n",
    "Console output line is replaced until\n",
    "[`labml.tracker.new_line`](https://docs.labml.ai/api/tracker.html#labml.tracker.new_line)\n",
    "is called."
   ]
  },
  {
   "cell_type": "code",
   "execution_count": 2,
   "metadata": {
    "scrolled": true
   },
   "outputs": [
    {
     "data": {
      "text/html": [
       "<pre style=\"overflow-x: scroll;\"><strong><span style=\"color: #DDB62B\">     100:  </span></strong> loss: <strong> 42.4000</strong>\n",
       "<strong><span style=\"color: #DDB62B\">     200:  </span></strong> loss: <strong> 42.3000</strong>\n",
       "<strong><span style=\"color: #DDB62B\">     300:  </span></strong> loss: <strong> 37.7000</strong>\n",
       "<strong><span style=\"color: #DDB62B\">     400:  </span></strong> loss: <strong> 51.1000</strong></pre>"
      ],
      "text/plain": [
       "<IPython.core.display.HTML object>"
      ]
     },
     "metadata": {},
     "output_type": "display_data"
    }
   ],
   "source": [
    "for i in range(1, 401):\n",
    "    tracker.add_global_step()\n",
    "    loss = train()\n",
    "    tracker.add(loss=loss)\n",
    "    if i % 10 == 0:\n",
    "        tracker.save()\n",
    "    if i % 100 == 0:\n",
    "        tracker.new_line()\n",
    "    time.sleep(0.02)"
   ]
  },
  {
   "cell_type": "markdown",
   "metadata": {},
   "source": [
    "## Indicator settings"
   ]
  },
  {
   "cell_type": "code",
   "execution_count": 3,
   "metadata": {},
   "outputs": [],
   "source": [
    "# dummy train function\n",
    "def train2(idx):\n",
    "    return idx, 10, np.random.randint(100)\n",
    "\n",
    "# Reset global step because we incremented in previous loop\n",
    "tracker.set_global_step(0)"
   ]
  },
  {
   "cell_type": "markdown",
   "metadata": {},
   "source": [
    "Histogram indicators will log a histogram of data.\n",
    "Queue will store data in a `deque` of size `queue_size`, and log histograms.\n",
    "Both of these will log the means too. And if `is_print` is `True` it will print the mean."
   ]
  },
  {
   "cell_type": "markdown",
   "metadata": {},
   "source": [
    "queue size of `10` and the values are printed to the console"
   ]
  },
  {
   "cell_type": "code",
   "execution_count": 4,
   "metadata": {},
   "outputs": [],
   "source": [
    "tracker.set_queue('reward', 10, True)"
   ]
  },
  {
   "cell_type": "markdown",
   "metadata": {},
   "source": [
    "By default values are not printed to console; i.e. `is_print` defaults to `False`."
   ]
  },
  {
   "cell_type": "code",
   "execution_count": 5,
   "metadata": {},
   "outputs": [],
   "source": [
    "tracker.set_scalar('policy')"
   ]
  },
  {
   "cell_type": "markdown",
   "metadata": {},
   "source": [
    "Settings `is_print` to `True` will print the mean value of histogram to console"
   ]
  },
  {
   "cell_type": "code",
   "execution_count": 6,
   "metadata": {},
   "outputs": [],
   "source": [
    "tracker.set_histogram('value', True)"
   ]
  },
  {
   "cell_type": "code",
   "execution_count": 7,
   "metadata": {},
   "outputs": [
    {
     "data": {
      "text/html": [
       "<pre style=\"overflow-x: scroll;\"><strong><span style=\"color: #DDB62B\">     100:  </span></strong> loss: <strong>  1.0000</strong> reward: <strong> 95.5000</strong> value: <strong> 56.4000</strong>\n",
       "<strong><span style=\"color: #DDB62B\">     200:  </span></strong> loss: <strong> 1.00000</strong> reward: <strong> 195.500</strong> value: <strong> 55.7000</strong>\n",
       "<strong><span style=\"color: #DDB62B\">     300:  </span></strong> loss: <strong> 1.00000</strong> reward: <strong> 295.500</strong> value: <strong> 49.1000</strong>\n",
       "<strong><span style=\"color: #DDB62B\">     390:  </span></strong> loss: <strong> 1.00000</strong> reward: <strong> 385.500</strong> value: <strong> 48.7000</strong></pre>"
      ],
      "text/plain": [
       "<IPython.core.display.HTML object>"
      ]
     },
     "metadata": {},
     "output_type": "display_data"
    }
   ],
   "source": [
    "for i in range(1, 400):\n",
    "    tracker.add_global_step()\n",
    "    reward, policy, value = train2(i)\n",
    "    tracker.add(reward=reward, policy=policy, value=value, loss=1.)\n",
    "    if i % 10 == 0:\n",
    "        tracker.save()\n",
    "    if i % 100 == 0:\n",
    "        tracker.new_line()"
   ]
  }
 ],
 "metadata": {
  "kernelspec": {
   "display_name": "dl3",
   "language": "python",
   "name": "dl3"
  },
  "language_info": {
   "codemirror_mode": {
    "name": "ipython",
    "version": 3
   },
   "file_extension": ".py",
   "mimetype": "text/x-python",
   "name": "python",
   "nbconvert_exporter": "python",
   "pygments_lexer": "ipython3",
   "version": "3.7.5"
  },
  "pycharm": {
   "stem_cell": {
    "cell_type": "raw",
    "metadata": {
     "collapsed": false
    },
    "source": []
   }
  }
 },
 "nbformat": 4,
 "nbformat_minor": 4
}
